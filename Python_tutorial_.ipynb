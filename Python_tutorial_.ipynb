{
  "nbformat": 4,
  "nbformat_minor": 0,
  "metadata": {
    "colab": {
      "provenance": [],
      "authorship_tag": "ABX9TyNpCaH+RfttwSbPVwtqgrP4",
      "include_colab_link": true
    },
    "kernelspec": {
      "name": "python3",
      "display_name": "Python 3"
    },
    "language_info": {
      "name": "python"
    }
  },
  "cells": [
    {
      "cell_type": "markdown",
      "metadata": {
        "id": "view-in-github",
        "colab_type": "text"
      },
      "source": [
        "<a href=\"https://colab.research.google.com/github/HawraaML/python_tutorial/blob/main/Python_tutorial_.ipynb\" target=\"_parent\"><img src=\"https://colab.research.google.com/assets/colab-badge.svg\" alt=\"Open In Colab\"/></a>"
      ]
    },
    {
      "cell_type": "markdown",
      "source": [
        "# **python**"
      ],
      "metadata": {
        "id": "hpzMvisBtV2b"
      }
    },
    {
      "cell_type": "markdown",
      "source": [
        "# **What will we study**\n",
        "\n",
        "\n",
        "1.   variable\n",
        "\n",
        "2.   Data type\n",
        "\n",
        "3.   type()\n",
        "\n",
        "4.   casting (change from one data type to another one)\n",
        "\n",
        "5.   Arithmetic Operators\n",
        "\n",
        "6.   Assignment Operators\n",
        "\n",
        "7.   Comparison Operators\n",
        "\n",
        "8.   Logic Operators\n",
        "\n",
        "9.   String\n",
        "\n",
        "10.   List\n",
        "\n",
        "11.   Tuple\n",
        "\n",
        "12.   Set\n",
        "\n",
        "13.   Dictionary\n",
        "\n"
      ],
      "metadata": {
        "id": "qMwvEOgEto05"
      }
    },
    {
      "cell_type": "markdown",
      "source": [
        "# Variable"
      ],
      "metadata": {
        "id": "yJRHrBw5g2j4"
      }
    },
    {
      "cell_type": "code",
      "execution_count": null,
      "metadata": {
        "colab": {
          "base_uri": "https://localhost:8080/"
        },
        "id": "lFpmvQw4tHzl",
        "outputId": "f6c000f8-603d-4897-de51-efb23b6badb7"
      },
      "outputs": [
        {
          "output_type": "stream",
          "name": "stdout",
          "text": [
            "Number =  10\n",
            "Negative number =  -6\n",
            "Long Number =  234567891333\n"
          ]
        }
      ],
      "source": [
        "# Integer variable\n",
        "\n",
        "num = 10\n",
        "negtive_num = -6\n",
        "long_num = 234567891333\n",
        "\n",
        "\n",
        "# Display variable\n",
        "print(\"Number = \",num)\n",
        "print(\"Negative number = \",negtive_num)\n",
        "print(\"Long Number = \",long_num)\n"
      ]
    },
    {
      "cell_type": "code",
      "source": [
        "# Float variable\n",
        "\n",
        "float_num = 4.5\n",
        "negative_float_num = -3.6\n",
        "long_float_num = 33333.87577887\n",
        "\n",
        "# Display variable\n",
        "print(\"Number = \",float_num)\n",
        "print(\"Negative number = \",negative_float_num)\n",
        "print(\"Long Number = \",long_float_num)\n"
      ],
      "metadata": {
        "colab": {
          "base_uri": "https://localhost:8080/"
        },
        "id": "MBdO2fIIcBcI",
        "outputId": "efe17105-0256-4daa-8e0f-344f4de07017"
      },
      "execution_count": null,
      "outputs": [
        {
          "output_type": "stream",
          "name": "stdout",
          "text": [
            "Number =  4.5\n",
            "Negative number =  -3.6\n",
            "Long Number =  33333.87577887\n"
          ]
        }
      ]
    },
    {
      "cell_type": "code",
      "source": [
        "# boolean variable\n",
        "\n",
        "positive = True\n",
        "negative = False\n",
        "positive_expression = 4>2\n",
        "negative_expression = 4<2\n",
        "\n",
        "# Display variable\n",
        "print(\"True = \",positive)\n",
        "print(\"false = \",negative)\n",
        "print(\"positive expression = \",positive_expression)\n",
        "print(\"negative expression = \",negative_expression)"
      ],
      "metadata": {
        "colab": {
          "base_uri": "https://localhost:8080/"
        },
        "id": "jzs6wtKoeh-5",
        "outputId": "2ee3feaa-5cb2-403c-805a-ec210f44731c"
      },
      "execution_count": null,
      "outputs": [
        {
          "output_type": "stream",
          "name": "stdout",
          "text": [
            "True =  True\n",
            "false =  False\n",
            "positive expression =  True\n",
            "negative expression =  False\n"
          ]
        }
      ]
    },
    {
      "cell_type": "code",
      "source": [
        "# the boolean True = 1 & the boolean False = 0\n",
        "\n",
        "num_1 = 5 + True\n",
        "num_0 = 5 + False\n",
        "\n",
        "# Display variable\n",
        "print(\"Sumation with True = \",num_1)\n",
        "print(\"Sumation with false =\",num_0)"
      ],
      "metadata": {
        "colab": {
          "base_uri": "https://localhost:8080/"
        },
        "id": "CmWPiGpvfccs",
        "outputId": "9a128b53-8813-45b8-e8eb-d7a0b196456c"
      },
      "execution_count": null,
      "outputs": [
        {
          "output_type": "stream",
          "name": "stdout",
          "text": [
            "Sumation with True =  6\n",
            "Sumation with false = 5\n"
          ]
        }
      ]
    },
    {
      "cell_type": "code",
      "source": [
        "# type() function used to give us the type of our variable\n",
        "num = -6\n",
        "boolean = 5>3\n",
        "float_num = -4.5\n",
        "\n",
        "# Display variable\n",
        "print(type(num))\n",
        "print(type(boolean))\n",
        "print(type(float_num))"
      ],
      "metadata": {
        "colab": {
          "base_uri": "https://localhost:8080/"
        },
        "id": "mm_YcZPBgCzm",
        "outputId": "197aaf9c-1f7d-4b04-b60d-c84e55a4a38c"
      },
      "execution_count": null,
      "outputs": [
        {
          "output_type": "stream",
          "name": "stdout",
          "text": [
            "<class 'int'>\n",
            "<class 'bool'>\n",
            "<class 'float'>\n"
          ]
        }
      ]
    },
    {
      "cell_type": "code",
      "source": [
        "#Casting (change type of vairable)\n",
        "num = 14\n",
        "print(num)\n",
        "print(type(num))\n",
        "\n",
        "float_num = float(num)\n",
        "print(float_num)\n",
        "print(type(float_num))\n",
        "\n",
        "bool(num)\n",
        "print(bool(num))\n",
        "print(type(bool(num)))\n",
        "\n",
        "num = bool(num)\n",
        "print(num)\n",
        "print(type(num))"
      ],
      "metadata": {
        "colab": {
          "base_uri": "https://localhost:8080/"
        },
        "id": "14Kcco8og_OY",
        "outputId": "6e113d98-3dd0-400f-8e65-d73222d12989"
      },
      "execution_count": null,
      "outputs": [
        {
          "output_type": "stream",
          "name": "stdout",
          "text": [
            "14\n",
            "<class 'int'>\n",
            "14.0\n",
            "<class 'float'>\n",
            "True\n",
            "<class 'bool'>\n",
            "True\n",
            "<class 'bool'>\n"
          ]
        }
      ]
    },
    {
      "cell_type": "markdown",
      "source": [
        "# Arithmetic Operator"
      ],
      "metadata": {
        "id": "Y4FrzwQCg80L"
      }
    },
    {
      "cell_type": "code",
      "source": [
        "num1 = 9\n",
        "num2 = 5\n",
        "\n",
        "# plus +\n",
        "num3 = num1+num2\n",
        "print(\"plus = \",num3)\n",
        "\n",
        "# minuse -\n",
        "num3 = num1-num2\n",
        "print(\"minuse = \",num3)\n",
        "\n",
        "# multiply(time) *\n",
        "num3 = num1*num2\n",
        "print(\"multiply = \",num3)\n",
        "\n",
        "# divsion /\n",
        "num3 = num1/num2\n",
        "print(\"divsion = \",num3)\n",
        "\n",
        "# reminder %\n",
        "num3 = num1%num2\n",
        "print(\"reminder = \",num3)\n",
        "\n",
        "# exponent ** (^)\n",
        "num3 = num1**num2\n",
        "print(\"exponent = \",num3)\n",
        "\n",
        "# only the integer value //\n",
        "num3 = num1//num2\n",
        "print(\"integer value = \",num3)"
      ],
      "metadata": {
        "colab": {
          "base_uri": "https://localhost:8080/"
        },
        "id": "HUNBHz3Dgue6",
        "outputId": "95e3c3e6-f2fc-4068-f246-97d4ee7c8559"
      },
      "execution_count": null,
      "outputs": [
        {
          "output_type": "stream",
          "name": "stdout",
          "text": [
            "plus =  14\n",
            "minuse =  4\n",
            "multiply =  45\n",
            "divsion =  1.8\n",
            "reminder =  4\n",
            "exponent =  59049\n",
            "integer value =  1\n"
          ]
        }
      ]
    },
    {
      "cell_type": "markdown",
      "source": [
        "# Assignment Operator"
      ],
      "metadata": {
        "id": "rH1f8PW6kVSd"
      }
    },
    {
      "cell_type": "code",
      "source": [
        "# Equal (=)\n",
        "num = 9\n",
        "print(\"equal = \",num)\n",
        "\n",
        "# plus equal (+=)  num = num + 5\n",
        "num += 5\n",
        "print(\"plus equal = \",num)\n",
        "\n",
        "# minuse (-=)  num = num - 5\n",
        "num -= 5\n",
        "print(\"minuse equal = \",num)\n",
        "\n",
        "# multiply(time) (*=) num = num * 5\n",
        "num *= 5\n",
        "print(\"multiply = \",num)\n",
        "\n",
        "# divsion (/=) num = num/5\n",
        "num /= 5\n",
        "print(\"divsion = \",num3)\n",
        "\n",
        "# reminder (%=) num = num % 5\n",
        "num %= 5\n",
        "print(\"reminder = \",num)\n",
        "\n",
        "# exponent (**=) (^=)  num = num**5\n",
        "num **= 5\n",
        "print(\"exponent = \",num)\n",
        "\n",
        "# only the integer value (//=) num = num // 5\n",
        "num //= 5\n",
        "print(\"integer value = \",num)"
      ],
      "metadata": {
        "colab": {
          "base_uri": "https://localhost:8080/"
        },
        "id": "ssL2SPUskOTr",
        "outputId": "d2cbd580-55ad-439f-8838-907579cc20b3"
      },
      "execution_count": null,
      "outputs": [
        {
          "output_type": "stream",
          "name": "stdout",
          "text": [
            "equal =  9\n",
            "plus equal =  14\n",
            "minuse equal =  9\n",
            "multiply =  45\n",
            "divsion =  1\n",
            "reminder =  4.0\n",
            "exponent =  1024.0\n",
            "integer value =  204.0\n"
          ]
        }
      ]
    },
    {
      "cell_type": "markdown",
      "source": [
        "# Comparsion Operator"
      ],
      "metadata": {
        "id": "ZQw1vP6nmmun"
      }
    },
    {
      "cell_type": "code",
      "source": [
        "num1 = 7\n",
        "num2 = 10\n",
        "\n",
        "# Greater than\n",
        "print(\"is number1 greater than number2 = \", num1>num2)\n",
        "\n",
        "# Greater or equal\n",
        "print(\"is number1 greater or equal number2 = \", num1>=num2)\n",
        "\n",
        "# smaller than\n",
        "print(\"is number1 smaller than number2 = \", num1<num2)\n",
        "\n",
        "# smaller or equal\n",
        "print(\"is number1 smaller or equal number2 = \", num1<=num2)\n",
        "\n",
        "# is equal\n",
        "print(\"is number1 equal to number2 = \", num1==num2)\n",
        "\n",
        "# is not equal\n",
        "print(\"is number1 not equal to number2 = \", num1==num2)"
      ],
      "metadata": {
        "colab": {
          "base_uri": "https://localhost:8080/"
        },
        "id": "bVOKdR3tmtSF",
        "outputId": "6adfb348-9d2f-414c-e479-d5acc20a2dbd"
      },
      "execution_count": null,
      "outputs": [
        {
          "output_type": "stream",
          "name": "stdout",
          "text": [
            "is number1 greater than number2 =  False\n",
            "is number1 greater or equal number2 =  False\n",
            "is number1 smaller than number2 =  True\n",
            "is number1 smaller or equal number2 =  True\n",
            "is number1 equal to number2 =  False\n",
            "is number1 not equal to number2 =  False\n"
          ]
        }
      ]
    },
    {
      "cell_type": "markdown",
      "source": [
        "# Logical Operator"
      ],
      "metadata": {
        "id": "eGNkDQHXn7yN"
      }
    },
    {
      "cell_type": "code",
      "source": [
        "boolean1 = True\n",
        "boolean2 = False\n",
        "\n",
        "# not (make it the opposite of its situation)\n",
        "print(\"NOT = \",not boolean1)\n",
        "\n",
        "#and (most possibilities are false only when the both values are true it will become true)\n",
        "print(\"AND = \",boolean1 and boolean2)\n",
        "\n",
        "#or (most possibilities are true only when the both values are false it will be false)\n",
        "print(\"OR = \",boolean1 or boolean2)\n"
      ],
      "metadata": {
        "colab": {
          "base_uri": "https://localhost:8080/"
        },
        "id": "kZHuogjioAmS",
        "outputId": "5d3a6f34-bf26-42a7-a814-74f3b7f079d1"
      },
      "execution_count": null,
      "outputs": [
        {
          "output_type": "stream",
          "name": "stdout",
          "text": [
            "NOT =  False\n",
            "AND =  False\n",
            "OR =  True\n"
          ]
        }
      ]
    },
    {
      "cell_type": "markdown",
      "source": [
        "# String"
      ],
      "metadata": {
        "id": "2IF2OfAXqRUW"
      }
    },
    {
      "cell_type": "code",
      "source": [
        "greeting = \"Hello everyone\"\n",
        "greeting = 'Hello everyone'\n",
        "greeting = '''Hello everyone'''\n",
        "print(greeting)\n",
        "\n",
        "greeting = \"Hello\\\" everyone\"\n",
        "greeting = 'Hello\\\" everyone'\n",
        "print(greeting)\n",
        "\n",
        "greeting = 'Hello\\n everyone'\n",
        "greeting = '''Hello\n",
        "everyone'''\n",
        "print(greeting)"
      ],
      "metadata": {
        "colab": {
          "base_uri": "https://localhost:8080/"
        },
        "id": "mLsi__6QqUyJ",
        "outputId": "bfd2e1fd-beb5-45b5-85a8-bfe17c9364a4"
      },
      "execution_count": null,
      "outputs": [
        {
          "output_type": "stream",
          "name": "stdout",
          "text": [
            "Hello everyone\n",
            "Hello\" everyone\n",
            "Hello \n",
            "everyone\n"
          ]
        }
      ]
    },
    {
      "cell_type": "code",
      "source": [
        "# len() give the length of string\n",
        "greeting = \"Hello everyone\"\n",
        "len(greeting)"
      ],
      "metadata": {
        "colab": {
          "base_uri": "https://localhost:8080/"
        },
        "id": "dCKmdbPLEo6E",
        "outputId": "6f6d0855-598d-4943-aa66-d6c71f3cf321"
      },
      "execution_count": null,
      "outputs": [
        {
          "output_type": "execute_result",
          "data": {
            "text/plain": [
              "14"
            ]
          },
          "metadata": {},
          "execution_count": 3
        }
      ]
    },
    {
      "cell_type": "code",
      "source": [
        "# type() to give type of variable\n",
        "greeting = \"Hello everyone\"\n",
        "type(greeting)"
      ],
      "metadata": {
        "colab": {
          "base_uri": "https://localhost:8080/"
        },
        "id": "kjUB8dSoE4dF",
        "outputId": "829f73a1-0154-411c-d2d7-7dd828a4bc49"
      },
      "execution_count": null,
      "outputs": [
        {
          "output_type": "execute_result",
          "data": {
            "text/plain": [
              "str"
            ]
          },
          "metadata": {},
          "execution_count": 4
        }
      ]
    },
    {
      "cell_type": "markdown",
      "source": [
        "# Built-in function for string\n",
        "\n",
        "\n"
      ],
      "metadata": {
        "id": "PdxoUs97FQSj"
      }
    },
    {
      "cell_type": "code",
      "source": [
        "# Slicing String\n",
        "greeting = \"Hello everyone\"\n",
        "\n",
        "print(greeting[1])\n",
        "print(greeting[1:5])\n",
        "print(greeting[:6])\n",
        "print(greeting[6:])\n",
        "print(greeting[-1])\n",
        "print(greeting[-4:-1])"
      ],
      "metadata": {
        "colab": {
          "base_uri": "https://localhost:8080/"
        },
        "id": "_0mJOGMWFG12",
        "outputId": "ac0efe85-288f-4426-be51-10345771bb78"
      },
      "execution_count": null,
      "outputs": [
        {
          "output_type": "stream",
          "name": "stdout",
          "text": [
            "e\n",
            "ello\n",
            "Hello \n",
            "everyone\n",
            "e\n",
            "yon\n"
          ]
        }
      ]
    },
    {
      "cell_type": "code",
      "source": [
        "# Concatination in String\n",
        "greeting = \"Hello everyone\"\n",
        "name = \"Hawraa\"\n",
        "info = greeting + \" My name is \" + name\n",
        "\n",
        "print(info)"
      ],
      "metadata": {
        "colab": {
          "base_uri": "https://localhost:8080/"
        },
        "id": "kNSnHus7GIjT",
        "outputId": "229987bb-f79f-45e6-ca96-78b5d80b0aba"
      },
      "execution_count": null,
      "outputs": [
        {
          "output_type": "stream",
          "name": "stdout",
          "text": [
            "Hello everyone My name is Hawraa\n"
          ]
        }
      ]
    },
    {
      "cell_type": "code",
      "source": [
        "# upper() make all letters capital\n",
        "greeting = \"Hello everyone\"\n",
        "print(\"Upper :\",greeting.upper())\n",
        "\n",
        "# lower() make all letters small\n",
        "greeting = \"Hello everyone\"\n",
        "print(\"Lower :\",greeting.lower())\n",
        "\n",
        "# capitalize() make first letter capitale\n",
        "greeting = \"hello everyone\"\n",
        "print(\"capitalize :\",greeting.capitalize())\n"
      ],
      "metadata": {
        "colab": {
          "base_uri": "https://localhost:8080/"
        },
        "id": "FbL4dwnZG2nV",
        "outputId": "4da5f4a2-3e65-4a95-e623-6fcb1e880e0b"
      },
      "execution_count": null,
      "outputs": [
        {
          "output_type": "stream",
          "name": "stdout",
          "text": [
            "Upper : HELLO EVERYONE\n",
            "Lower : hello everyone\n",
            "capitalize : Hello everyone\n"
          ]
        }
      ]
    },
    {
      "cell_type": "code",
      "source": [
        "# split() to make string as list\n",
        "greeting = \"Hello everyone\"\n",
        "print(\"split :\",greeting.split())"
      ],
      "metadata": {
        "colab": {
          "base_uri": "https://localhost:8080/"
        },
        "id": "oUPwtqopHEhn",
        "outputId": "a1ae5ca5-17ef-4de1-cba4-868a825b60af"
      },
      "execution_count": null,
      "outputs": [
        {
          "output_type": "stream",
          "name": "stdout",
          "text": [
            "split : ['Hello', 'everyone']\n"
          ]
        }
      ]
    },
    {
      "cell_type": "code",
      "source": [
        "# check if the element exist in string\n",
        "greeting = \"Hello everyone\"\n",
        "print(\"check:\",\"Hello\" in greeting)"
      ],
      "metadata": {
        "colab": {
          "base_uri": "https://localhost:8080/"
        },
        "id": "-cZh5SRbIS0O",
        "outputId": "bcbaf4df-58db-43d2-83a8-93a4cb77e13d"
      },
      "execution_count": null,
      "outputs": [
        {
          "output_type": "stream",
          "name": "stdout",
          "text": [
            "check: True\n"
          ]
        }
      ]
    },
    {
      "cell_type": "code",
      "source": [
        "# strip() using to remove white space or something i specify in the begin and end of string\n",
        "greeting = \"     Hello everyone     \"\n",
        "print(\"strip:\",greeting.strip())\n",
        "\n",
        "greeting = \"********Hello everyone*******\"\n",
        "print(\"strip:\",greeting.strip('*'))\n"
      ],
      "metadata": {
        "colab": {
          "base_uri": "https://localhost:8080/"
        },
        "id": "J9Fho1B-IxYq",
        "outputId": "de517d4a-0d0f-40d5-c993-49af81b357cd"
      },
      "execution_count": null,
      "outputs": [
        {
          "output_type": "stream",
          "name": "stdout",
          "text": [
            "strip: Hello everyone\n",
            "strip: Hello everyone\n"
          ]
        }
      ]
    },
    {
      "cell_type": "code",
      "source": [
        "# to insert variable inside string\n",
        "num = 5\n",
        "\n",
        "print(f\"Hello number {num} \")"
      ],
      "metadata": {
        "colab": {
          "base_uri": "https://localhost:8080/"
        },
        "id": "T20BsGIWJtTT",
        "outputId": "f38cd7e9-6552-4009-f0ad-73e7df24af5c"
      },
      "execution_count": null,
      "outputs": [
        {
          "output_type": "stream",
          "name": "stdout",
          "text": [
            "Hello number 5 \n"
          ]
        }
      ]
    },
    {
      "cell_type": "code",
      "source": [
        "#replace(old,new) use to replace part of string with another one\n",
        "greeting = \"Hello everyone\"\n",
        "print(greeting.replace(\"Hello\",\"Good morning\"))"
      ],
      "metadata": {
        "colab": {
          "base_uri": "https://localhost:8080/"
        },
        "id": "Hfw-QXyMKEG5",
        "outputId": "16696af5-b65f-4dcb-a3ca-f65461b7bdc6"
      },
      "execution_count": null,
      "outputs": [
        {
          "output_type": "stream",
          "name": "stdout",
          "text": [
            "Good morning everyone\n"
          ]
        }
      ]
    },
    {
      "cell_type": "markdown",
      "source": [
        "# List[ ]"
      ],
      "metadata": {
        "id": "--ZkRzVGLkxK"
      }
    },
    {
      "cell_type": "code",
      "source": [
        "# List can contain item from the same types or different types and it can be empty\n",
        "pet_list = [\"cat\",\"dog\",\"parrot\"]\n",
        "print(\"pets =\",pet_list)\n",
        "\n",
        "data_list = [\"hello\",3.4,-24,None,5<3,[20,30,-23,5.78]]\n",
        "print(\"data =\",data_list)\n",
        "\n",
        "empty_list = []\n",
        "print(\"empty =\",empty_list)"
      ],
      "metadata": {
        "colab": {
          "base_uri": "https://localhost:8080/"
        },
        "id": "rqM6L9JrLY43",
        "outputId": "5f19fbdd-b874-47a6-c56f-18e7a5379d39"
      },
      "execution_count": null,
      "outputs": [
        {
          "output_type": "stream",
          "name": "stdout",
          "text": [
            "pets = ['cat', 'dog', 'parrot']\n",
            "data = ['hello', 3.4, -24, None, False, [20, 30, -23, 5.78]]\n",
            "empty = []\n"
          ]
        }
      ]
    },
    {
      "cell_type": "code",
      "source": [
        "# len() & type() in list\n",
        "\n",
        "data_list = [\"hello\",3.4,-24,None,5<3,[20,30,-23,5.78]]\n",
        "print(\"len =\",len(data_list))\n",
        "print(\"type =\",type(data_list))"
      ],
      "metadata": {
        "colab": {
          "base_uri": "https://localhost:8080/"
        },
        "id": "Y3TBf_7tMTJn",
        "outputId": "177fa291-5ca5-403b-af1c-e8ea3b1f6886"
      },
      "execution_count": null,
      "outputs": [
        {
          "output_type": "stream",
          "name": "stdout",
          "text": [
            "len = 6\n",
            "type = <class 'list'>\n"
          ]
        }
      ]
    },
    {
      "cell_type": "code",
      "source": [
        "# Access to item in the list\n",
        "\n",
        "data_list = [\"hello\",3.4,-24,None,5<3,[20,30,-23,5.78]]\n",
        "print(data_list[2])\n",
        "print(data_list[2:5])\n",
        "print(data_list[-1])\n",
        "print(data_list[2:])\n",
        "print(data_list[:4])"
      ],
      "metadata": {
        "colab": {
          "base_uri": "https://localhost:8080/"
        },
        "id": "CzkNAFVwNaoe",
        "outputId": "a198f1c1-f26d-4e47-fbd1-5d733df8ebce"
      },
      "execution_count": null,
      "outputs": [
        {
          "output_type": "stream",
          "name": "stdout",
          "text": [
            "-24\n",
            "[-24, None, False]\n",
            "[20, 30, -23, 5.78]\n",
            "[-24, None, False, [20, 30, -23, 5.78]]\n",
            "['hello', 3.4, -24, None]\n"
          ]
        }
      ]
    },
    {
      "cell_type": "code",
      "source": [
        "# change list item with another one\n",
        "\n",
        "data_list = [\"hello\",3.4,-24,None,5<3,[20,30,-23,5.78]]\n",
        "data_list[2]=True\n",
        "print(data_list)"
      ],
      "metadata": {
        "colab": {
          "base_uri": "https://localhost:8080/"
        },
        "id": "k01NG5H6OOqT",
        "outputId": "43a9bece-676e-443c-b357-d9b9e1bbb581"
      },
      "execution_count": null,
      "outputs": [
        {
          "output_type": "stream",
          "name": "stdout",
          "text": [
            "['hello', 3.4, True, None, False, [20, 30, -23, 5.78]]\n"
          ]
        }
      ]
    },
    {
      "cell_type": "code",
      "source": [
        "# join two list\n",
        "\n",
        "data_list = [\"hello\",3.4,-24,None,5<3,[20,30,-23,5.78]]\n",
        "transport = [\"ship\", \"plane\", \"car\"]\n",
        "\n",
        "full_list = data_list + transport\n",
        "print(full_list)"
      ],
      "metadata": {
        "colab": {
          "base_uri": "https://localhost:8080/"
        },
        "id": "l3HhAoq0VLix",
        "outputId": "e8300136-80b9-4191-da32-69b0d1301956"
      },
      "execution_count": null,
      "outputs": [
        {
          "output_type": "stream",
          "name": "stdout",
          "text": [
            "['hello', 3.4, -24, None, False, [20, 30, -23, 5.78], 'ship', 'plane', 'car']\n"
          ]
        }
      ]
    },
    {
      "cell_type": "code",
      "source": [
        "# to add item at end of list we use append(name of new item) also it helps in adding list at end of list\n",
        "\n",
        "data_list = [\"hello\",3.4,-24,None,5<3,[20,30,-23,5.78]]\n",
        "transport = [\"ship\", \"plane\", \"car\"]\n",
        "\n",
        "data_list.append(\"july\")\n",
        "print(data_list)\n",
        "\n",
        "data_list.append(transport)\n",
        "print(data_list)\n",
        "\n",
        "# to add item at end of list but from another list we use extend(new list)\n",
        "data_list.extend(transport)\n",
        "print(data_list)"
      ],
      "metadata": {
        "colab": {
          "base_uri": "https://localhost:8080/"
        },
        "id": "pLAn__fUPCNo",
        "outputId": "359842e8-f179-4a81-bfe4-5fafd99b3dc2"
      },
      "execution_count": null,
      "outputs": [
        {
          "output_type": "stream",
          "name": "stdout",
          "text": [
            "['hello', 3.4, -24, None, False, [20, 30, -23, 5.78], 'july']\n",
            "['hello', 3.4, -24, None, False, [20, 30, -23, 5.78], 'july', ['ship', 'plane', 'car']]\n",
            "['hello', 3.4, -24, None, False, [20, 30, -23, 5.78], 'july', ['ship', 'plane', 'car'], 'ship', 'plane', 'car']\n"
          ]
        }
      ]
    },
    {
      "cell_type": "code",
      "source": [
        "# to add item in spesfic place of list we use insert(index,\"new item\")\n",
        "\n",
        "data_list = [\"hello\",3.4,-24,None,5<3,[20,30,-23,5.78]]\n",
        "data_list.insert(2,\"july\")\n",
        "print(data_list)"
      ],
      "metadata": {
        "colab": {
          "base_uri": "https://localhost:8080/"
        },
        "id": "LzrE_G9pPjO1",
        "outputId": "5b55adc5-f1c4-46f3-8731-8bb007bf774b"
      },
      "execution_count": null,
      "outputs": [
        {
          "output_type": "stream",
          "name": "stdout",
          "text": [
            "['hello', 3.4, 'july', -24, None, False, [20, 30, -23, 5.78]]\n"
          ]
        }
      ]
    },
    {
      "cell_type": "code",
      "source": [
        "# to remove an item from list we can use remove(name of item)\n",
        "\n",
        "data_list = [\"hello\",3.4,-24,None,5<3,[20,30,-23,5.78]]\n",
        "data_list.remove(3.4)\n",
        "print(data_list)\n",
        "\n",
        "# to remove an item by index from list we can use pop(index)\n",
        "\n",
        "data_list = [\"hello\",3.4,-24,None,5<3,[20,30,-23,5.78]]\n",
        "data_list.pop(0)\n",
        "print(data_list)\n"
      ],
      "metadata": {
        "colab": {
          "base_uri": "https://localhost:8080/"
        },
        "id": "kDc6vT4wP0fy",
        "outputId": "198db126-41a7-4080-c6db-176b98a00772"
      },
      "execution_count": null,
      "outputs": [
        {
          "output_type": "stream",
          "name": "stdout",
          "text": [
            "['hello', -24, None, False, [20, 30, -23, 5.78]]\n",
            "[3.4, -24, None, False, [20, 30, -23, 5.78]]\n"
          ]
        }
      ]
    },
    {
      "cell_type": "code",
      "source": [
        "# to sort list we use sort()\n",
        "\n",
        "num_list = [20,10,40,100,30,0]\n",
        "num_list.sort()\n",
        "print(num_list)\n",
        "\n",
        "fruit_list = [\"apple\",\"orange\",\"banana\",\"cherry\"]\n",
        "fruit_list.sort()\n",
        "print(fruit_list)\n",
        "\n",
        "# to sort list in descending we use sort(reverse = True)\n",
        "\n",
        "num_list = [20,10,40,100,30,0]\n",
        "num_list.sort(reverse = True)\n",
        "print(num_list)\n",
        "\n",
        "fruit_list = [\"apple\",\"orange\",\"banana\",\"cherry\"]\n",
        "fruit_list.sort(reverse = True)\n",
        "print(fruit_list)"
      ],
      "metadata": {
        "colab": {
          "base_uri": "https://localhost:8080/"
        },
        "id": "WdWwPWtfSVcs",
        "outputId": "00b725b2-7be8-4501-9aaa-29828c7d00f4"
      },
      "execution_count": null,
      "outputs": [
        {
          "output_type": "stream",
          "name": "stdout",
          "text": [
            "[0, 10, 20, 30, 40, 100]\n",
            "['apple', 'banana', 'cherry', 'orange']\n",
            "[100, 40, 30, 20, 10, 0]\n",
            "['orange', 'cherry', 'banana', 'apple']\n"
          ]
        }
      ]
    },
    {
      "cell_type": "code",
      "source": [
        "# to reverse the given list we use reverse()\n",
        "\n",
        "data_list = [\"hello\",3.4,-24,None,5<3,[20,30,-23,5.78]]\n",
        "data_list.reverse()\n",
        "print(data_list)"
      ],
      "metadata": {
        "colab": {
          "base_uri": "https://localhost:8080/"
        },
        "id": "t6TzYv0vTJzb",
        "outputId": "cde71cc9-df1b-4ff6-ef25-da481d055ac7"
      },
      "execution_count": null,
      "outputs": [
        {
          "output_type": "stream",
          "name": "stdout",
          "text": [
            "[[20, 30, -23, 5.78], False, None, -24, 3.4, 'hello']\n"
          ]
        }
      ]
    },
    {
      "cell_type": "code",
      "source": [
        "# to copy list we use the copy()\n",
        "\n",
        "data_list = [\"hello\",3.4,-24,None,5<3,[20,30,-23,5.78]]\n",
        "data_list1 = data_list.copy()\n",
        "print(data_list1)"
      ],
      "metadata": {
        "colab": {
          "base_uri": "https://localhost:8080/"
        },
        "id": "uJ0IUKe8UKE0",
        "outputId": "6fd4a8e2-25c4-4028-f03d-6dbc7119e0ac"
      },
      "execution_count": null,
      "outputs": [
        {
          "output_type": "stream",
          "name": "stdout",
          "text": [
            "['hello', 3.4, -24, None, False, [20, 30, -23, 5.78]]\n"
          ]
        }
      ]
    },
    {
      "cell_type": "markdown",
      "source": [
        "# Tuple( )"
      ],
      "metadata": {
        "id": "3YXBgukxVv3d"
      }
    },
    {
      "cell_type": "code",
      "source": [
        "fruit_tuple = (\"apple\",\"banana\",\"orange\",\"cherry\")\n",
        "data_tuple = (2,None,\"hi\",True,[1,2,3],(\"car\",\"plane\",\"ship\"))\n",
        "empty_tuple = ()\n",
        "single_item_tuple =(1,)\n",
        "print(\"fruit =\",fruit_tuple)\n",
        "print(\"data =\",data_tuple)\n",
        "print(\"empty =\",empty_tuple)\n",
        "print(\"single =\",single_item_tuple)"
      ],
      "metadata": {
        "colab": {
          "base_uri": "https://localhost:8080/"
        },
        "id": "fd6gMFVQVzLH",
        "outputId": "0d81c554-549d-4899-e781-83ab334fe3b4"
      },
      "execution_count": null,
      "outputs": [
        {
          "output_type": "stream",
          "name": "stdout",
          "text": [
            "fruit = ('apple', 'banana', 'orange', 'cherry')\n",
            "data = (2, None, 'hi', True, [1, 2, 3], ('car', 'plane', 'ship'))\n",
            "empty = ()\n",
            "single = (1,)\n"
          ]
        }
      ]
    },
    {
      "cell_type": "code",
      "source": [
        "# len() & type() in tuple\n",
        "\n",
        "data_tuple = (2,None,\"hi\",True,[1,2,3],(\"car\",\"plane\",\"ship\"),-20)\n",
        "print(\"len =\",len(data_tuple))\n",
        "print(\"type =\",type(data_tuple))"
      ],
      "metadata": {
        "colab": {
          "base_uri": "https://localhost:8080/"
        },
        "id": "2d9cngb5XiOk",
        "outputId": "f12ae2f6-42e4-4f1e-a5bb-13cc7bd9f46d"
      },
      "execution_count": null,
      "outputs": [
        {
          "output_type": "stream",
          "name": "stdout",
          "text": [
            "len = 7\n",
            "type = <class 'tuple'>\n"
          ]
        }
      ]
    },
    {
      "cell_type": "code",
      "source": [
        "# Access item in tuple\n",
        "\n",
        "data_tuple = (2,None,\"hi\",True,[1,2,3],(\"car\",\"plane\",\"ship\"),-20)\n",
        "print(data_tuple[3])\n",
        "print(data_tuple[1:5])\n",
        "print(data_tuple[-1])\n",
        "print(data_tuple[2:])\n",
        "print(data_tuple[:4])\n",
        "print(data_tuple[-4:-2])"
      ],
      "metadata": {
        "colab": {
          "base_uri": "https://localhost:8080/"
        },
        "id": "PKQhDss5X1iq",
        "outputId": "e2e8ed10-75a1-4f49-8484-e0b4543d6a9f"
      },
      "execution_count": null,
      "outputs": [
        {
          "output_type": "stream",
          "name": "stdout",
          "text": [
            "True\n",
            "(None, 'hi', True, [1, 2, 3])\n",
            "-20\n",
            "('hi', True, [1, 2, 3], ('car', 'plane', 'ship'), -20)\n",
            "(2, None, 'hi', True)\n",
            "(True, [1, 2, 3])\n"
          ]
        }
      ]
    },
    {
      "cell_type": "code",
      "source": [
        "# the different between tuple and list that tuple can not change so if we want to change in it we need to convert to list\n",
        "\n",
        "data_tuple = (2,None,\"hi\",True,[1,2,3],(\"car\",\"plane\",\"ship\"),-20)\n",
        "data_list = list(data_tuple)\n",
        "data_list[2] = \"good morning\"\n",
        "data_tuple = tuple(data_list)\n",
        "print(data_tuple)"
      ],
      "metadata": {
        "colab": {
          "base_uri": "https://localhost:8080/"
        },
        "id": "oDOS5wn_kOBR",
        "outputId": "3cb3fde2-0b54-4ee7-8c22-b59ac888ea7f"
      },
      "execution_count": null,
      "outputs": [
        {
          "output_type": "stream",
          "name": "stdout",
          "text": [
            "(2, None, 'good morning', True, [1, 2, 3], ('car', 'plane', 'ship'), -20)\n"
          ]
        }
      ]
    },
    {
      "cell_type": "code",
      "source": [
        "# unpack tuple extract the value of tuple in a variable\n",
        "\n",
        "num_tuple = (1,2,3)\n",
        "(one,two,three)=num_tuple\n",
        "print(f\"{one}\\n{two}\\n{three}\")"
      ],
      "metadata": {
        "colab": {
          "base_uri": "https://localhost:8080/"
        },
        "id": "j0nHiGU7lScu",
        "outputId": "9ca61024-3577-4e4c-9c09-78f17fe6164f"
      },
      "execution_count": null,
      "outputs": [
        {
          "output_type": "stream",
          "name": "stdout",
          "text": [
            "1\n",
            "2\n",
            "3\n"
          ]
        }
      ]
    },
    {
      "cell_type": "code",
      "source": [
        "# Using Asterisk* we use it if the number of variables is less than the number of values\n",
        "\n",
        "num_tuple = (1,2,3,4,5,6)\n",
        "(one,two,*three)=num_tuple\n",
        "print(f\"{one}\\n{two}\\n{three}\")"
      ],
      "metadata": {
        "colab": {
          "base_uri": "https://localhost:8080/"
        },
        "id": "kxcP2Ve_mg_R",
        "outputId": "444ae8a5-749f-41c6-a0e9-7609886a273b"
      },
      "execution_count": null,
      "outputs": [
        {
          "output_type": "stream",
          "name": "stdout",
          "text": [
            "1\n",
            "2\n",
            "[3, 4, 5, 6]\n"
          ]
        }
      ]
    },
    {
      "cell_type": "code",
      "source": [
        "# join tuple\n",
        "\n",
        "num_tuple = (1,2,3,4)\n",
        "txt_tuple = (\"one\",\"two\",\"three\",\"four\")\n",
        "\n",
        "full_tuple = num_tuple +txt_tuple\n",
        "print(f\"full_tuple = {full_tuple}\")\n",
        "\n",
        "# multiply tuple\n",
        "txt_tuple = (\"one\",\"two\",\"three\",\"four\")\n",
        "txt_tuple *=3\n",
        "print(f\"full_tuple = {txt_tuple}\")"
      ],
      "metadata": {
        "colab": {
          "base_uri": "https://localhost:8080/"
        },
        "id": "AKihkkP3nIZJ",
        "outputId": "5b673b4c-36a5-4582-9105-39816b9e56e4"
      },
      "execution_count": null,
      "outputs": [
        {
          "output_type": "stream",
          "name": "stdout",
          "text": [
            "full_tuple = (1, 2, 3, 4, 'one', 'two', 'three', 'four')\n",
            "full_tuple = ('one', 'two', 'three', 'four', 'one', 'two', 'three', 'four', 'one', 'two', 'three', 'four')\n"
          ]
        }
      ]
    },
    {
      "cell_type": "code",
      "source": [
        "# to find index of specfic in tuple we use index(the name of item)\n",
        "\n",
        "txt_tuple = (\"one\",\"two\",\"three\",\"four\")\n",
        "print(txt_tuple.index(\"three\"))\n",
        "txt_tuple = (\"one\",\"two\",\"three\",\"four\")\n",
        "\n",
        "# to find how many this item repeated in the tuple we use count(the name of item)\n",
        "print(txt_tuple.count(\"one\"))"
      ],
      "metadata": {
        "colab": {
          "base_uri": "https://localhost:8080/"
        },
        "id": "57klwxE7oSZK",
        "outputId": "8080655b-c9ac-4ede-baf9-d0edc7bdf858"
      },
      "execution_count": null,
      "outputs": [
        {
          "output_type": "stream",
          "name": "stdout",
          "text": [
            "2\n",
            "1\n"
          ]
        }
      ]
    },
    {
      "cell_type": "markdown",
      "source": [
        "# Set { }"
      ],
      "metadata": {
        "id": "Saz_PZR8qp57"
      }
    },
    {
      "cell_type": "code",
      "source": [
        "fruit_set = {\"apple\",\"banana\",\"orange\",\"cherry\"}\n",
        "#data_set = {2,None,\"hi\",True,[1,2,3],(\"car\",\"plane\",\"ship\"),{1,-4,55}}\n",
        "data_set = {2,None,\"hi\",True,(\"car\",\"plane\",\"ship\")}\n",
        "empty_set = {}\n",
        "single_item_set ={1,}\n",
        "print(\"fruit =\",fruit_set)\n",
        "print(\"data =\",data_set)\n",
        "print(\"empty =\",empty_set)\n",
        "print(\"single =\",single_item_tuple)"
      ],
      "metadata": {
        "colab": {
          "base_uri": "https://localhost:8080/"
        },
        "id": "zFJKtfm3qutC",
        "outputId": "90eeb93e-6ced-4130-9b21-36b3c830a5b8"
      },
      "execution_count": null,
      "outputs": [
        {
          "output_type": "stream",
          "name": "stdout",
          "text": [
            "fruit = {'orange', 'apple', 'cherry', 'banana'}\n",
            "data = {True, 2, 'hi', ('car', 'plane', 'ship'), None}\n",
            "empty = {}\n",
            "single = (1,)\n"
          ]
        }
      ]
    },
    {
      "cell_type": "code",
      "source": [
        "# len() & type() in set\n",
        "\n",
        "data_set = {2,None,\"hi\",True,(\"car\",\"plane\",\"ship\"),-20}\n",
        "print(\"len =\",len(data_set))\n",
        "print(\"type =\",type(data_set))"
      ],
      "metadata": {
        "colab": {
          "base_uri": "https://localhost:8080/"
        },
        "id": "uz3PDj_jtmLU",
        "outputId": "04df0313-89fc-4c24-8c35-48ca1f4a1e9d"
      },
      "execution_count": null,
      "outputs": [
        {
          "output_type": "stream",
          "name": "stdout",
          "text": [
            "len = 6\n",
            "type = <class 'set'>\n"
          ]
        }
      ]
    },
    {
      "cell_type": "code",
      "source": [
        "# to add item to set we use add(new item)\n",
        "\n",
        "data_set = {2,None,\"hi\",True,(\"car\",\"plane\",\"ship\"),-20}\n",
        "data_set.add(\"hello\")\n",
        "print(data_set)"
      ],
      "metadata": {
        "colab": {
          "base_uri": "https://localhost:8080/"
        },
        "id": "rDkppNNft6ZE",
        "outputId": "70f207d2-0952-496b-de65-b06a6100c446"
      },
      "execution_count": null,
      "outputs": [
        {
          "output_type": "stream",
          "name": "stdout",
          "text": [
            "{True, 2, 'hi', ('car', 'plane', 'ship'), -20, None, 'hello'}\n"
          ]
        }
      ]
    },
    {
      "cell_type": "code",
      "source": [
        "# add set to another set we use update(new set)\n",
        "\n",
        "data_set = {2,None,\"hi\",True,(\"car\",\"plane\",\"ship\"),-20}\n",
        "fruit_set = {\"apple\",\"banana\",\"orange\",\"cherry\"}\n",
        "data_set.update(fruit_set)\n",
        "print(data_set)\n",
        "\n",
        "# also we can use union(new list)\n",
        "\n",
        "data_set = {2,None,\"hi\",True,(\"car\",\"plane\",\"ship\"),-20}\n",
        "fruit_set = {\"apple\",\"banana\",\"orange\",\"cherry\"}\n",
        "full_set = data_set.union(fruit_set)\n",
        "print(full_set)"
      ],
      "metadata": {
        "colab": {
          "base_uri": "https://localhost:8080/"
        },
        "id": "mooCS_Xwui3R",
        "outputId": "37fef962-6924-48b6-f3bc-8a4c515f728f"
      },
      "execution_count": null,
      "outputs": [
        {
          "output_type": "stream",
          "name": "stdout",
          "text": [
            "{True, 2, 'hi', 'apple', 'cherry', ('car', 'plane', 'ship'), 'banana', -20, 'orange', None}\n",
            "{True, 2, 'hi', 'apple', 'cherry', ('car', 'plane', 'ship'), 'banana', -20, 'orange', None}\n"
          ]
        }
      ]
    },
    {
      "cell_type": "code",
      "source": [
        "# remove item from set we use remove(item)\n",
        "\n",
        "data_set = {2,None,\"hi\",True,(\"car\",\"plane\",\"ship\"),-20}\n",
        "data_set.remove(\"hi\")\n",
        "print(data_set)\n",
        "\n",
        "# if we use pop() to remove item we do not know whch item will remove because the list is unordered\n",
        "\n",
        "data_set = {2,None,\"hi\",True,(\"car\",\"plane\",\"ship\"),-20}\n",
        "data_set.pop()\n",
        "print(data_set)"
      ],
      "metadata": {
        "colab": {
          "base_uri": "https://localhost:8080/"
        },
        "id": "xx_809s-xE9L",
        "outputId": "9834c199-2223-479a-f38c-0a8a94e7dd35"
      },
      "execution_count": null,
      "outputs": [
        {
          "output_type": "stream",
          "name": "stdout",
          "text": [
            "{True, 2, ('car', 'plane', 'ship'), -20, None}\n",
            "{2, 'hi', ('car', 'plane', 'ship'), -20, None}\n"
          ]
        }
      ]
    },
    {
      "cell_type": "code",
      "source": [
        "# to find differnt item between to set we use difference(second set)\n",
        "\n",
        "firs_set = {\"car\", \"cat\", \"dog\"}\n",
        "second_set = {\"cat\", \"dog\", \"bird\"}\n",
        "\n",
        "different_set = firs_set.difference(second_set)\n",
        "\n",
        "print(different_set)"
      ],
      "metadata": {
        "colab": {
          "base_uri": "https://localhost:8080/"
        },
        "id": "okCl1oEfvWRz",
        "outputId": "c5d3e239-0b22-4a38-db76-9914fa0a9673"
      },
      "execution_count": null,
      "outputs": [
        {
          "output_type": "stream",
          "name": "stdout",
          "text": [
            "{'car'}\n"
          ]
        }
      ]
    },
    {
      "cell_type": "markdown",
      "source": [
        "# Dictionary"
      ],
      "metadata": {
        "id": "qeEIHXWB9ghN"
      }
    },
    {
      "cell_type": "code",
      "source": [
        "data_dict = {\n",
        "    \"name\":\"Noor\",\n",
        "    \"Age\":18,\n",
        "    \"sport\":\"basketball\",\n",
        "    \"averge\":81.452,\n",
        "    \"favourit_color\":[\"red\",\"whit\",\"black\"],\n",
        "    \"favourit_pet\":(\"cat\",\"dog\"),\n",
        "    \"favourit_hoppy\":{\"sport\",\"reading\",\"drawimg\"}\n",
        "}\n",
        "\n",
        "print(data_dict)"
      ],
      "metadata": {
        "colab": {
          "base_uri": "https://localhost:8080/"
        },
        "id": "aR-DIL5f9Y5w",
        "outputId": "d5eb2af8-bf9f-4004-bb27-ecf352be17d3"
      },
      "execution_count": null,
      "outputs": [
        {
          "output_type": "stream",
          "name": "stdout",
          "text": [
            "{'name': 'Noor', 'Age': 18, 'sport': 'basketball', 'averge': 81.452, 'favourit_color': ['red', 'whit', 'black'], 'favourit_pet': ('cat', 'dog'), 'favourit_hoppy': {'drawimg', 'sport', 'reading'}}\n"
          ]
        }
      ]
    },
    {
      "cell_type": "code",
      "source": [
        "# len() & type() in dictionary\n",
        "\n",
        "data_dict = {\n",
        "    \"name\":\"Noor\",\n",
        "    \"Age\":18,\n",
        "    \"sport\":\"basketball\",\n",
        "    \"averge\":81.452,\n",
        "    \"favourit_color\":[\"red\",\"whit\",\"black\"],\n",
        "    \"favourit_pet\":(\"cat\",\"dog\"),\n",
        "    \"favourit_hoppy\":{\"sport\",\"reading\",\"drawimg\"}\n",
        "}\n",
        "\n",
        "print(len(data_dict))\n",
        "print(type(data_dict))"
      ],
      "metadata": {
        "colab": {
          "base_uri": "https://localhost:8080/"
        },
        "id": "tDeLIIfOAJ-2",
        "outputId": "9504c951-3ae0-4562-ba0b-320fe736a1f0"
      },
      "execution_count": null,
      "outputs": [
        {
          "output_type": "stream",
          "name": "stdout",
          "text": [
            "7\n",
            "<class 'dict'>\n"
          ]
        }
      ]
    },
    {
      "cell_type": "code",
      "source": [
        "# access item in dictionary\n",
        "\n",
        "data_dict = {\n",
        "    \"name\":\"Noor\",\n",
        "    \"Age\":18,\n",
        "    \"sport\":\"basketball\",\n",
        "    \"average\":81.452,\n",
        "    \"favorite_color\":[\"red\",\"whit\",\"black\"],\n",
        "    \"favorite_pet\":(\"cat\",\"dog\"),\n",
        "    \"favorite_hoppy\":{\"sport\",\"reading\",\"drawimg\"}\n",
        "}\n",
        "\n",
        "print(data_dict[\"name\"])\n",
        "\n",
        "# Also we can store it in another variable\n",
        "\n",
        "age = data_dict[\"Age\"]\n",
        "print(age)\n",
        "\n",
        "# we can use get() to access item\n",
        "\n",
        "average = data_dict.get(\"average\")\n",
        "print(average)\n",
        "\n",
        "# if we want a list of key we use key()\n",
        "\n",
        "all_keys = data_dict.keys()\n",
        "print(all_keys)\n",
        "\n",
        "# if we want a list of value we use values()\n",
        "\n",
        "all_values = data_dict.values()\n",
        "print(all_values)"
      ],
      "metadata": {
        "colab": {
          "base_uri": "https://localhost:8080/"
        },
        "id": "VPuzircbAY-6",
        "outputId": "24b6cae7-6d31-4268-86cf-a3da4b057b85"
      },
      "execution_count": null,
      "outputs": [
        {
          "output_type": "stream",
          "name": "stdout",
          "text": [
            "Noor\n",
            "18\n",
            "81.452\n",
            "dict_keys(['name', 'Age', 'sport', 'average', 'favorite_color', 'favorite_pet', 'favorite_hoppy'])\n",
            "dict_values(['Noor', 18, 'basketball', 81.452, ['red', 'whit', 'black'], ('cat', 'dog'), {'drawimg', 'sport', 'reading'}])\n"
          ]
        }
      ]
    },
    {
      "cell_type": "code",
      "source": [
        "# to change item in a dictionary we use\n",
        "\n",
        "data_dict = {\n",
        "    \"name\":\"Noor\",\n",
        "    \"Age\":18,\n",
        "    \"sport\":\"basketball\",\n",
        "    \"average\":81.452,\n",
        "    \"favorite_color\":[\"red\",\"whit\",\"black\"],\n",
        "    \"favorite_pet\":(\"cat\",\"dog\"),\n",
        "    \"favorite_hoppy\":{\"sport\",\"reading\",\"drawimg\"}\n",
        "}\n",
        "\n",
        "data_dict[\"Age\"] = 20\n",
        "print(data_dict)\n",
        "\n",
        "# also we can use update() to do that\n",
        "\n",
        "data_dict.update({\"name\":\"july\"})\n",
        "print(data_dict)"
      ],
      "metadata": {
        "colab": {
          "base_uri": "https://localhost:8080/"
        },
        "id": "hqqARDIfCoNU",
        "outputId": "7d14833c-3e6b-46f0-825b-b791aa53f1a3"
      },
      "execution_count": null,
      "outputs": [
        {
          "output_type": "stream",
          "name": "stdout",
          "text": [
            "{'name': 'Noor', 'Age': 20, 'sport': 'basketball', 'average': 81.452, 'favorite_color': ['red', 'whit', 'black'], 'favorite_pet': ('cat', 'dog'), 'favorite_hoppy': {'drawimg', 'sport', 'reading'}}\n",
            "{'name': 'july', 'Age': 20, 'sport': 'basketball', 'average': 81.452, 'favorite_color': ['red', 'whit', 'black'], 'favorite_pet': ('cat', 'dog'), 'favorite_hoppy': {'drawimg', 'sport', 'reading'}}\n"
          ]
        }
      ]
    },
    {
      "cell_type": "code",
      "source": [
        "# to add item in a dictionary we use\n",
        "\n",
        "data_dict = {\n",
        "    \"name\":\"Noor\",\n",
        "    \"Age\":18,\n",
        "    \"sport\":\"basketball\",\n",
        "    \"average\":81.452,\n",
        "    \"favorite_color\":[\"red\",\"whit\",\"black\"],\n",
        "    \"favorite_pet\":(\"cat\",\"dog\"),\n",
        "    \"favorite_hoppy\":{\"sport\",\"reading\",\"drawimg\"}\n",
        "}\n",
        "\n",
        "data_dict[\"favorite_food\"]=\"pizza\"\n",
        "print(data_dict)\n",
        "\n",
        "# also we can use update() to do that\n",
        "\n",
        "data_dict.update({\"country\":\"Iraq\"})\n",
        "print(data_dict)"
      ],
      "metadata": {
        "colab": {
          "base_uri": "https://localhost:8080/"
        },
        "id": "wGlMPTn7C3N_",
        "outputId": "132f0b6c-69f6-4613-cf13-62503b0dfc56"
      },
      "execution_count": null,
      "outputs": [
        {
          "output_type": "stream",
          "name": "stdout",
          "text": [
            "{'name': 'Noor', 'Age': 18, 'sport': 'basketball', 'average': 81.452, 'favorite_color': ['red', 'whit', 'black'], 'favorite_pet': ('cat', 'dog'), 'favorite_hoppy': {'drawimg', 'sport', 'reading'}, 'favorite_food': 'pizza'}\n",
            "{'name': 'Noor', 'Age': 18, 'sport': 'basketball', 'average': 81.452, 'favorite_color': ['red', 'whit', 'black'], 'favorite_pet': ('cat', 'dog'), 'favorite_hoppy': {'drawimg', 'sport', 'reading'}, 'favorite_food': 'pizza', 'country': 'Iraq'}\n"
          ]
        }
      ]
    },
    {
      "cell_type": "code",
      "source": [
        "# to remove item from dictionary we use pop()\n",
        "data_dict = {\n",
        "    \"name\":\"Noor\",\n",
        "    \"Age\":18,\n",
        "    \"sport\":\"basketball\",\n",
        "    \"average\":81.452,\n",
        "    \"favorite_color\":[\"red\",\"whit\",\"black\"],\n",
        "    \"favorite_pet\":(\"cat\",\"dog\"),\n",
        "    \"favorite_hoppy\":{\"sport\",\"reading\",\"drawimg\"}\n",
        "}\n",
        "data_dict.pop(\"average\")\n",
        "print(\"item reomved :\",data_dict)\n",
        "\n",
        "# to remove all item we can use clear()\n",
        "\n",
        "data_dict.clear()\n",
        "print(\"clear dictionary :\",data_dict)"
      ],
      "metadata": {
        "colab": {
          "base_uri": "https://localhost:8080/"
        },
        "id": "YhXPRFKwE-HH",
        "outputId": "6e34feb8-0eff-47d2-abba-f81bcdfb4688"
      },
      "execution_count": null,
      "outputs": [
        {
          "output_type": "stream",
          "name": "stdout",
          "text": [
            "item reomved : {'name': 'Noor', 'Age': 18, 'sport': 'basketball', 'favorite_color': ['red', 'whit', 'black'], 'favorite_pet': ('cat', 'dog'), 'favorite_hoppy': {'drawimg', 'sport', 'reading'}}\n",
            "clear dictionary : {}\n"
          ]
        }
      ]
    },
    {
      "cell_type": "code",
      "source": [
        "# to make copy of dictionary we use copy()\n",
        "\n",
        "data_dict = {\n",
        "    \"name\":\"Noor\",\n",
        "    \"Age\":18,\n",
        "    \"sport\":\"basketball\",\n",
        "    \"average\":81.452,\n",
        "    \"favorite_color\":[\"red\",\"whit\",\"black\"],\n",
        "    \"favorite_pet\":(\"cat\",\"dog\"),\n",
        "    \"favorite_hoppy\":{\"sport\",\"reading\",\"drawimg\"}\n",
        "}\n",
        "data_dict_new = data_dict.copy()\n",
        "print(\"copied of data_dict :\",data_dict_new)\n"
      ],
      "metadata": {
        "colab": {
          "base_uri": "https://localhost:8080/"
        },
        "id": "twgLJv69GiHH",
        "outputId": "2f280dab-0060-4105-d980-7e9514f8dd45"
      },
      "execution_count": null,
      "outputs": [
        {
          "output_type": "stream",
          "name": "stdout",
          "text": [
            "copied of data_dict : {'name': 'Noor', 'Age': 18, 'sport': 'basketball', 'average': 81.452, 'favorite_color': ['red', 'whit', 'black'], 'favorite_pet': ('cat', 'dog'), 'favorite_hoppy': {'drawimg', 'sport', 'reading'}}\n"
          ]
        }
      ]
    },
    {
      "cell_type": "code",
      "source": [
        "# nested dictionary\n",
        "\n",
        "data_dict = {\n",
        "    \"student1\" :{\n",
        "        \"name\":\"Ali\",\n",
        "        \"average\":90\n",
        "    },\n",
        "     \"student2\" :{\n",
        "        \"name\":\"Huda\",\n",
        "        \"average\":93\n",
        "    },\n",
        "     \"student3\" :{\n",
        "        \"name\":\"Sura\",\n",
        "        \"average\":89\n",
        "    },\n",
        "}\n",
        "\n",
        "print(\"all students\",data_dict)\n",
        "print(\"first student :\",data_dict[\"student1\"])\n",
        "print(\"second student name :\",data_dict[\"student2\"][\"name\"])"
      ],
      "metadata": {
        "colab": {
          "base_uri": "https://localhost:8080/"
        },
        "id": "wxWPsQzWHMcG",
        "outputId": "28b965f1-d07b-43f0-b3ac-703ec723e2d5"
      },
      "execution_count": null,
      "outputs": [
        {
          "output_type": "stream",
          "name": "stdout",
          "text": [
            "all students {'student1': {'name': 'Ali', 'average': 90}, 'student2': {'name': 'Huda', 'average': 93}, 'student3': {'name': 'Sura', 'average': 89}}\n",
            "first student : {'name': 'Ali', 'average': 90}\n",
            "second student name : Huda\n"
          ]
        }
      ]
    }
  ]
}