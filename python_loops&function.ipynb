{
  "nbformat": 4,
  "nbformat_minor": 0,
  "metadata": {
    "colab": {
      "provenance": [],
      "authorship_tag": "ABX9TyNV8u3Bwjr18OEA+PtkkVmT",
      "include_colab_link": true
    },
    "kernelspec": {
      "name": "python3",
      "display_name": "Python 3"
    },
    "language_info": {
      "name": "python"
    }
  },
  "cells": [
    {
      "cell_type": "markdown",
      "metadata": {
        "id": "view-in-github",
        "colab_type": "text"
      },
      "source": [
        "<a href=\"https://colab.research.google.com/github/HawraaML/python_tutorial/blob/main/python_loops%26function.ipynb\" target=\"_parent\"><img src=\"https://colab.research.google.com/assets/colab-badge.svg\" alt=\"Open In Colab\"/></a>"
      ]
    },
    {
      "cell_type": "markdown",
      "source": [
        "## Loops & Functions"
      ],
      "metadata": {
        "id": "JFS11nabJe6J"
      }
    },
    {
      "cell_type": "markdown",
      "source": [
        "# What will we study\n",
        "\n",
        "\n",
        "\n",
        "1.   User input\n",
        "\n",
        "1.   if else\n",
        "\n",
        "1.   while loop\n",
        "\n",
        "1.   for loop\n",
        "\n",
        "1.   function\n",
        "\n"
      ],
      "metadata": {
        "id": "dmGv7bu_Jm3f"
      }
    },
    {
      "cell_type": "code",
      "source": [
        "# if statment\n",
        "num = 0\n",
        "if num != 1:\n",
        "  print(\"number is not equal to 1\")"
      ],
      "metadata": {
        "colab": {
          "base_uri": "https://localhost:8080/"
        },
        "id": "BeZ8cmzwMB37",
        "outputId": "adaef044-80dc-4310-9eb8-03b1165d2f3c"
      },
      "execution_count": 7,
      "outputs": [
        {
          "output_type": "stream",
          "name": "stdout",
          "text": [
            "number is not equal to 1\n"
          ]
        }
      ]
    },
    {
      "cell_type": "code",
      "source": [
        "# if else\n",
        "num1 = 10\n",
        "num2 = 20\n",
        "if num1>=num2:\n",
        "  print(\"num1 is greater\")\n",
        "else:\n",
        "  print(\"num2 is greater\")"
      ],
      "metadata": {
        "colab": {
          "base_uri": "https://localhost:8080/"
        },
        "id": "Czl-oXSzxb9p",
        "outputId": "fac4c907-5ef8-469c-da46-d861c46a08af"
      },
      "execution_count": 5,
      "outputs": [
        {
          "output_type": "stream",
          "name": "stdout",
          "text": [
            "num2 is greater\n"
          ]
        }
      ]
    },
    {
      "cell_type": "code",
      "source": [
        "# if elif else\n",
        "num1 = 10\n",
        "num2 = 20\n",
        "if num1>=num2:\n",
        "  print(\"num1 is greater\")\n",
        "elif num1 == num2:\n",
        "  print(\"num1 is equal to num2\")\n",
        "else:\n",
        "  print(\"num2 is greater\")"
      ],
      "metadata": {
        "colab": {
          "base_uri": "https://localhost:8080/"
        },
        "id": "G3XRcC7AyJ70",
        "outputId": "7a652f93-cedf-4493-a183-fc48d440c278"
      },
      "execution_count": 4,
      "outputs": [
        {
          "output_type": "stream",
          "name": "stdout",
          "text": [
            "num2 is greater\n"
          ]
        }
      ]
    },
    {
      "cell_type": "code",
      "source": [
        "# Ternary Operators (short hand if)\n",
        "num1 = 50\n",
        "num2 = 30\n",
        "print(num1) if num1>num2 else print(num2)"
      ],
      "metadata": {
        "colab": {
          "base_uri": "https://localhost:8080/"
        },
        "id": "7Fw1t2--y1E9",
        "outputId": "506bec21-ee17-46b2-d24b-db2b06032c36"
      },
      "execution_count": 10,
      "outputs": [
        {
          "output_type": "stream",
          "name": "stdout",
          "text": [
            "50\n"
          ]
        }
      ]
    },
    {
      "cell_type": "markdown",
      "source": [
        "# For loop"
      ],
      "metadata": {
        "id": "WM81szg5UslP"
      }
    },
    {
      "cell_type": "code",
      "source": [
        "# for loop\n",
        "pet = [\"parrot\",\"dog\",\"cat\"]\n",
        "\n",
        "for x in pet :\n",
        "      print (x)\n",
        "\n"
      ],
      "metadata": {
        "id": "9zbul-EMMeFT",
        "colab": {
          "base_uri": "https://localhost:8080/"
        },
        "outputId": "96248bc1-b0ab-49c9-9688-2852b6f444b2"
      },
      "execution_count": null,
      "outputs": [
        {
          "output_type": "stream",
          "name": "stdout",
          "text": [
            "parrot\n",
            "dog\n",
            "cat\n"
          ]
        }
      ]
    },
    {
      "cell_type": "code",
      "source": [
        "# for loop with string\n",
        "for x in \"python\":\n",
        "  print(x)"
      ],
      "metadata": {
        "colab": {
          "base_uri": "https://localhost:8080/"
        },
        "id": "vaPXB17-FQsZ",
        "outputId": "d60a16d1-5c55-4193-c595-6e9d08a11ed4"
      },
      "execution_count": 5,
      "outputs": [
        {
          "output_type": "stream",
          "name": "stdout",
          "text": [
            "p\n",
            "y\n",
            "t\n",
            "h\n",
            "o\n",
            "n\n"
          ]
        }
      ]
    },
    {
      "cell_type": "code",
      "source": [
        "# break statment use to stop the loop when we reach a specfic item\n",
        "pet = [\"parrot\",\"dog\",\"cat\"]\n",
        "\n",
        "for x in pet :\n",
        "      if x == \"dog\":\n",
        "        break\n",
        "      print (x)"
      ],
      "metadata": {
        "colab": {
          "base_uri": "https://localhost:8080/"
        },
        "id": "wjRCufQyFYKI",
        "outputId": "9483b36a-b963-4417-da1f-dbab6fe9d3c6"
      },
      "execution_count": 3,
      "outputs": [
        {
          "output_type": "stream",
          "name": "stdout",
          "text": [
            "parrot\n"
          ]
        }
      ]
    },
    {
      "cell_type": "code",
      "source": [
        "#continue statement use to stop current item of the loop, and continue with the next\n",
        "pet = [\"parrot\",\"dog\",\"cat\"]\n",
        "\n",
        "for x in pet :\n",
        "      if x == \"dog\":\n",
        "        continue\n",
        "      print(x)"
      ],
      "metadata": {
        "colab": {
          "base_uri": "https://localhost:8080/"
        },
        "id": "dwxKReO8GFcT",
        "outputId": "0f289042-19f7-43b7-ea2b-9dde85f65277"
      },
      "execution_count": 2,
      "outputs": [
        {
          "output_type": "stream",
          "name": "stdout",
          "text": [
            "parrot\n",
            "cat\n"
          ]
        }
      ]
    },
    {
      "cell_type": "code",
      "source": [
        "# range(number of elements)\n",
        "\n",
        "for x in range(6):\n",
        "  print(x)"
      ],
      "metadata": {
        "colab": {
          "base_uri": "https://localhost:8080/"
        },
        "id": "XxExYvdhSgq6",
        "outputId": "e789a0bb-7074-4b54-ebd5-e40dfc547a5d"
      },
      "execution_count": 5,
      "outputs": [
        {
          "output_type": "stream",
          "name": "stdout",
          "text": [
            "0\n",
            "1\n",
            "2\n",
            "3\n",
            "4\n",
            "5\n"
          ]
        }
      ]
    },
    {
      "cell_type": "code",
      "source": [
        "# range(start,end)\n",
        "for x in range(6,10):\n",
        "  print(x)\n"
      ],
      "metadata": {
        "colab": {
          "base_uri": "https://localhost:8080/"
        },
        "id": "L5jIfyHGSlSa",
        "outputId": "d058d2f2-93d9-42e8-9d5b-eeb82ad85dd6"
      },
      "execution_count": 6,
      "outputs": [
        {
          "output_type": "stream",
          "name": "stdout",
          "text": [
            "6\n",
            "7\n",
            "8\n",
            "9\n"
          ]
        }
      ]
    },
    {
      "cell_type": "code",
      "source": [
        "# range(start,end,step)\n",
        "for x in range(6,20,3):\n",
        "  print(x)"
      ],
      "metadata": {
        "colab": {
          "base_uri": "https://localhost:8080/"
        },
        "id": "sNvsbmRPTAGs",
        "outputId": "32e19026-8b1d-47d2-d70b-f62cbe8605e5"
      },
      "execution_count": 8,
      "outputs": [
        {
          "output_type": "stream",
          "name": "stdout",
          "text": [
            "6\n",
            "9\n",
            "12\n",
            "15\n",
            "18\n"
          ]
        }
      ]
    },
    {
      "cell_type": "markdown",
      "source": [
        "# While loop"
      ],
      "metadata": {
        "id": "LiYqJTJZUmzi"
      }
    },
    {
      "cell_type": "code",
      "execution_count": null,
      "metadata": {
        "colab": {
          "base_uri": "https://localhost:8080/"
        },
        "id": "Qxnfnj35JYEM",
        "outputId": "4b67aabd-52ef-440a-a95e-1926c99189cc"
      },
      "outputs": [
        {
          "output_type": "stream",
          "name": "stdout",
          "text": [
            "number =  3\n",
            "number =  4\n",
            "number =  5\n",
            "number =  6\n",
            "number =  7\n",
            "number =  8\n",
            "number =  9\n",
            "number =  10\n"
          ]
        }
      ],
      "source": [
        "# while loop\n",
        "\n",
        "i = 3\n",
        "\n",
        "while i<=10:\n",
        "  print(\"number = \",i)\n",
        "  i += 1\n"
      ]
    },
    {
      "cell_type": "code",
      "source": [
        "# while with break\n",
        "i = 1\n",
        "while i < 5:\n",
        "  if i == 2:\n",
        "    break\n",
        "  print(i)\n",
        "  i += 1"
      ],
      "metadata": {
        "colab": {
          "base_uri": "https://localhost:8080/"
        },
        "id": "BEyelK4zTcFk",
        "outputId": "daaff3f2-d839-47b2-8e0c-4d3daf730bd5"
      },
      "execution_count": 10,
      "outputs": [
        {
          "output_type": "stream",
          "name": "stdout",
          "text": [
            "1\n"
          ]
        }
      ]
    },
    {
      "cell_type": "code",
      "source": [
        "# while with continue\n",
        "i = 1\n",
        "while i < 6:\n",
        "  i += 1\n",
        "  if i == 3:\n",
        "    continue\n",
        "  print(i)"
      ],
      "metadata": {
        "colab": {
          "base_uri": "https://localhost:8080/"
        },
        "id": "4nrqhUReTgBO",
        "outputId": "d7697e00-9149-4f61-f6bd-905a7758b0d0"
      },
      "execution_count": 12,
      "outputs": [
        {
          "output_type": "stream",
          "name": "stdout",
          "text": [
            "2\n",
            "4\n",
            "5\n",
            "6\n"
          ]
        }
      ]
    },
    {
      "cell_type": "code",
      "source": [
        "#while with else\n",
        "i = 1\n",
        "while i < 5:\n",
        "  print(i)\n",
        "  i += 1\n",
        "else:\n",
        "  print(\"i is greater than 5\")"
      ],
      "metadata": {
        "colab": {
          "base_uri": "https://localhost:8080/"
        },
        "id": "BwBcXW0NT3rN",
        "outputId": "3ac92c36-41fc-4fd5-fa61-24b734c48999"
      },
      "execution_count": 13,
      "outputs": [
        {
          "output_type": "stream",
          "name": "stdout",
          "text": [
            "1\n",
            "2\n",
            "3\n",
            "4\n",
            "i is greater than 5\n"
          ]
        }
      ]
    },
    {
      "cell_type": "markdown",
      "source": [
        "# Function"
      ],
      "metadata": {
        "id": "zvRYXwRiUgbO"
      }
    },
    {
      "cell_type": "code",
      "source": [
        "#define function\n",
        "def sum():\n",
        "  num = 4 + 10\n",
        "  print(\"sum\",num)\n",
        "\n",
        "#call function\n",
        "sum()"
      ],
      "metadata": {
        "colab": {
          "base_uri": "https://localhost:8080/"
        },
        "id": "Gshn0vXmUVhZ",
        "outputId": "c278858e-403a-40d1-f305-4b53ffe8b889"
      },
      "execution_count": 16,
      "outputs": [
        {
          "output_type": "stream",
          "name": "stdout",
          "text": [
            "sum 14\n"
          ]
        }
      ]
    },
    {
      "cell_type": "code",
      "source": [
        "# function with parameters\n",
        "\n",
        "def sum(num1,num2):\n",
        "  num = num1 + num2\n",
        "  print(\"sum = \",num)\n",
        "\n",
        "\n",
        "#call function\n",
        "sum(2,3)"
      ],
      "metadata": {
        "colab": {
          "base_uri": "https://localhost:8080/"
        },
        "id": "ytYZgyb9V0NH",
        "outputId": "765dd4f3-3ee5-4c4c-da73-74d835e62d37"
      },
      "execution_count": 17,
      "outputs": [
        {
          "output_type": "stream",
          "name": "stdout",
          "text": [
            "sum =  5\n"
          ]
        }
      ]
    },
    {
      "cell_type": "code",
      "source": [
        "# Arbitrary Arguments, *args : we use * function with unknown number of parameters\n",
        "\n",
        "def number(*num):\n",
        "  print(\"numbers =\",num)\n",
        "\n",
        "#call function\n",
        "number(1,2,3,4)"
      ],
      "metadata": {
        "colab": {
          "base_uri": "https://localhost:8080/"
        },
        "id": "I6LThcOwWcAO",
        "outputId": "30e4f3c5-b56c-4c28-f950-84ef0c853b8d"
      },
      "execution_count": 4,
      "outputs": [
        {
          "output_type": "stream",
          "name": "stdout",
          "text": [
            "numbers = (1, 2, 3, 4)\n"
          ]
        }
      ]
    },
    {
      "cell_type": "code",
      "source": [
        "#Keyword Arguments :we can also send arguments with the key = value syntax.\n",
        "\n",
        "def avg(exam1,exam2):\n",
        "  average = (exam1+exam2)/2\n",
        "  print(\"average =\",average)\n",
        "\n",
        "#call function\n",
        "avg(exam2=80,exam1=90)"
      ],
      "metadata": {
        "colab": {
          "base_uri": "https://localhost:8080/"
        },
        "id": "rH__377VZXN_",
        "outputId": "54049ea9-ae15-4ace-9abf-44366c4af683"
      },
      "execution_count": 23,
      "outputs": [
        {
          "output_type": "stream",
          "name": "stdout",
          "text": [
            "average = 85.0\n"
          ]
        }
      ]
    },
    {
      "cell_type": "code",
      "source": [
        "def avg(**exam):\n",
        "  average = (exam[\"exam1\"]+exam[\"exam2\"])/2\n",
        "  print(\"average =\",average)\n",
        "\n",
        "#call function\n",
        "avg(exam1=80,exam2=90)"
      ],
      "metadata": {
        "colab": {
          "base_uri": "https://localhost:8080/"
        },
        "id": "4-8W3QFUaY2E",
        "outputId": "6949d01a-d540-42e7-a59e-aab54fef86ef"
      },
      "execution_count": 3,
      "outputs": [
        {
          "output_type": "stream",
          "name": "stdout",
          "text": [
            "average = 85.0\n"
          ]
        }
      ]
    },
    {
      "cell_type": "code",
      "source": [
        "# defult parameters\n",
        "def fruit(fruits = \"cherry\"):\n",
        "  print(\"It is a \" + fruits)\n",
        "\n",
        "fruit(\"orange\")\n",
        "fruit()"
      ],
      "metadata": {
        "colab": {
          "base_uri": "https://localhost:8080/"
        },
        "id": "keQ_IMI5cCrK",
        "outputId": "c6a1bcc3-5540-4ae2-df40-9c2590786da1"
      },
      "execution_count": 5,
      "outputs": [
        {
          "output_type": "stream",
          "name": "stdout",
          "text": [
            "It is a orange\n",
            "It is a cherry\n"
          ]
        }
      ]
    },
    {
      "cell_type": "code",
      "source": [
        "# The pass Statement : we use it if we want to make a function without content\n",
        "def sum():\n",
        "  pass"
      ],
      "metadata": {
        "id": "x9pHpG9Bc0jH"
      },
      "execution_count": 9,
      "outputs": []
    }
  ]
}