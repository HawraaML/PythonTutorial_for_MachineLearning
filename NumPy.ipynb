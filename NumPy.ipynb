{
  "nbformat": 4,
  "nbformat_minor": 0,
  "metadata": {
    "colab": {
      "provenance": [],
      "authorship_tag": "ABX9TyO686+DMHh6Yz6PBQho/amf",
      "include_colab_link": true
    },
    "kernelspec": {
      "name": "python3",
      "display_name": "Python 3"
    },
    "language_info": {
      "name": "python"
    }
  },
  "cells": [
    {
      "cell_type": "markdown",
      "metadata": {
        "id": "view-in-github",
        "colab_type": "text"
      },
      "source": [
        "<a href=\"https://colab.research.google.com/github/HawraaML/python_tutorial/blob/main/NumPy.ipynb\" target=\"_parent\"><img src=\"https://colab.research.google.com/assets/colab-badge.svg\" alt=\"Open In Colab\"/></a>"
      ]
    },
    {
      "cell_type": "markdown",
      "source": [
        "# **Numpy**\n",
        "\n",
        "\n",
        "\n",
        "1.   Introduction\n",
        "\n",
        "1.   create a vector & array\n",
        "\n",
        "1.   shape and reshape\n",
        "\n",
        "1.   Indexing\n",
        "\n",
        "1.   Slicing\n",
        "\n",
        "1.   Data type\n",
        "\n",
        "2.   Array iteration\n",
        "\n",
        "2.   join\n",
        "\n",
        "2.   split\n",
        "\n",
        "2.   search\n",
        "\n",
        "1.   sort\n",
        "\n",
        "2.   Universal functions (ufunc)\n",
        "           - Arithmetic\n",
        "           - Statistical Functions\n",
        "           - Rounding\n",
        "\n"
      ],
      "metadata": {
        "id": "hAceE4c9KjqO"
      }
    },
    {
      "cell_type": "markdown",
      "source": [
        " **NumPy** : is a Python library used for working with arrays. It also has functions for working in domain of linear algebra, fourier transform, and matrices."
      ],
      "metadata": {
        "id": "viWnUZVHnNHb"
      }
    },
    {
      "cell_type": "code",
      "execution_count": null,
      "metadata": {
        "id": "Tzrx2c7PRMMn",
        "colab": {
          "base_uri": "https://localhost:8080/"
        },
        "outputId": "c809071d-ba3b-4f17-f9be-c08c3de7d40c"
      },
      "outputs": [
        {
          "output_type": "stream",
          "name": "stdout",
          "text": [
            "Requirement already satisfied: numpy in /usr/local/lib/python3.10/dist-packages (1.23.5)\n"
          ]
        }
      ],
      "source": [
        "!pip install numpy"
      ]
    },
    {
      "cell_type": "code",
      "source": [
        "print(np.__version__)"
      ],
      "metadata": {
        "id": "3ugyj4TruJR7",
        "outputId": "6a4d70c6-5606-4493-838a-e883dd40ffc3",
        "colab": {
          "base_uri": "https://localhost:8080/"
        }
      },
      "execution_count": null,
      "outputs": [
        {
          "output_type": "stream",
          "name": "stdout",
          "text": [
            "1.23.5\n"
          ]
        }
      ]
    },
    {
      "cell_type": "code",
      "source": [
        "import numpy as np"
      ],
      "metadata": {
        "id": "vHkGsxksTTKh"
      },
      "execution_count": null,
      "outputs": []
    },
    {
      "cell_type": "code",
      "source": [
        "vector = ([1,2,3,4])\n",
        "vector"
      ],
      "metadata": {
        "colab": {
          "base_uri": "https://localhost:8080/"
        },
        "id": "1swQS2EjKTUh",
        "outputId": "cde0e157-3214-481b-be27-41447fa100c0"
      },
      "execution_count": null,
      "outputs": [
        {
          "output_type": "execute_result",
          "data": {
            "text/plain": [
              "[1, 2, 3, 4]"
            ]
          },
          "metadata": {},
          "execution_count": 7
        }
      ]
    },
    {
      "cell_type": "code",
      "source": [
        "# vector of zeros\n",
        "vector0 = np.zeros(10)\n",
        "vector0"
      ],
      "metadata": {
        "colab": {
          "base_uri": "https://localhost:8080/"
        },
        "id": "Igr1j31oKdF3",
        "outputId": "794a480b-6e07-42db-e52b-7c0bb75f2cbd"
      },
      "execution_count": null,
      "outputs": [
        {
          "output_type": "execute_result",
          "data": {
            "text/plain": [
              "array([0., 0., 0., 0., 0., 0., 0., 0., 0., 0.])"
            ]
          },
          "metadata": {},
          "execution_count": 5
        }
      ]
    },
    {
      "cell_type": "code",
      "source": [
        "# vector of ones\n",
        "vector1 = np.ones(12)\n",
        "vector1"
      ],
      "metadata": {
        "colab": {
          "base_uri": "https://localhost:8080/"
        },
        "id": "QahvJ15sQLpj",
        "outputId": "b14e2850-29ca-4db5-f88e-c14a628b8004"
      },
      "execution_count": null,
      "outputs": [
        {
          "output_type": "execute_result",
          "data": {
            "text/plain": [
              "array([1., 1., 1., 1., 1., 1., 1., 1., 1., 1., 1., 1.])"
            ]
          },
          "metadata": {},
          "execution_count": 6
        }
      ]
    },
    {
      "cell_type": "code",
      "source": [
        "# vector with range of elements\n",
        "vector = np.arange(1,10)\n",
        "vector"
      ],
      "metadata": {
        "colab": {
          "base_uri": "https://localhost:8080/"
        },
        "id": "CxBg-w5BQUwB",
        "outputId": "40f7a56c-315c-477d-b3ce-f613dc6ee651"
      },
      "execution_count": null,
      "outputs": [
        {
          "output_type": "execute_result",
          "data": {
            "text/plain": [
              "array([1, 2, 3, 4, 5, 6, 7, 8, 9])"
            ]
          },
          "metadata": {},
          "execution_count": 10
        }
      ]
    },
    {
      "cell_type": "code",
      "source": [
        "# vector of range of elements with steps arange(start,end,step)\n",
        "vector = np.arange(1,10,2)\n",
        "vector"
      ],
      "metadata": {
        "colab": {
          "base_uri": "https://localhost:8080/"
        },
        "id": "yY2mBN5cx-4r",
        "outputId": "4e8283dc-fa4c-44ee-816b-b37dd1da8d9d"
      },
      "execution_count": null,
      "outputs": [
        {
          "output_type": "execute_result",
          "data": {
            "text/plain": [
              "array([1, 3, 5, 7, 9])"
            ]
          },
          "metadata": {},
          "execution_count": 3
        }
      ]
    },
    {
      "cell_type": "code",
      "source": [
        "# 2D array (matrix)\n",
        "arr = np.array([[1,2,3],\n",
        "                [4,5,6],\n",
        "                [7,8,9]])\n",
        "arr"
      ],
      "metadata": {
        "colab": {
          "base_uri": "https://localhost:8080/"
        },
        "id": "-0HR60FlQt9Y",
        "outputId": "4fd56797-cf49-4c0d-f4a5-447d75eb38f2"
      },
      "execution_count": null,
      "outputs": [
        {
          "output_type": "execute_result",
          "data": {
            "text/plain": [
              "array([[1, 2, 3],\n",
              "       [4, 5, 6],\n",
              "       [7, 8, 9]])"
            ]
          },
          "metadata": {},
          "execution_count": 11
        }
      ]
    },
    {
      "cell_type": "code",
      "source": [
        "# 3D array (matrix)\n",
        "arr3 = np.array([[[1,2,3],[4,5,6]],\n",
        "                [[7,8,9],[10,11,12]]])\n",
        "arr3"
      ],
      "metadata": {
        "colab": {
          "base_uri": "https://localhost:8080/"
        },
        "id": "FciPQollxoGY",
        "outputId": "08168628-7cce-4c42-9130-9effad243fc2"
      },
      "execution_count": null,
      "outputs": [
        {
          "output_type": "execute_result",
          "data": {
            "text/plain": [
              "array([[[ 1,  2,  3],\n",
              "        [ 4,  5,  6]],\n",
              "\n",
              "       [[ 7,  8,  9],\n",
              "        [10, 11, 12]]])"
            ]
          },
          "metadata": {},
          "execution_count": 9
        }
      ]
    },
    {
      "cell_type": "code",
      "source": [
        "# creating array with random value\n",
        "arr = np.random.rand(5,3)\n",
        "print(arr)"
      ],
      "metadata": {
        "colab": {
          "base_uri": "https://localhost:8080/"
        },
        "id": "xs7i_sTohkm-",
        "outputId": "07d0d675-f484-43d8-8604-d593bd5cc1c7"
      },
      "execution_count": null,
      "outputs": [
        {
          "output_type": "stream",
          "name": "stdout",
          "text": [
            "[[0.6301627  0.9861102  0.66242599]\n",
            " [0.44045084 0.91140544 0.83976684]\n",
            " [0.99937009 0.98914217 0.42934326]\n",
            " [0.25092063 0.69898423 0.65395574]\n",
            " [0.78704676 0.85626801 0.7217512 ]]\n"
          ]
        }
      ]
    },
    {
      "cell_type": "code",
      "source": [
        "# to know the number of dimention of array we use ndim\n",
        "arr1 = np.zeros(10)\n",
        "arr2 = np.array([[1,2,3],[4,5,6]])\n",
        "arr3 = np.array([[[1,2,3],[4,5,6]]])\n",
        "\n",
        "print(\"arr1\",arr1.ndim)\n",
        "print(\"arr2\",arr2.ndim)\n",
        "print(\"arr3\",arr3.ndim)"
      ],
      "metadata": {
        "colab": {
          "base_uri": "https://localhost:8080/"
        },
        "id": "P6yHaGu7ziiK",
        "outputId": "fa8d9c0d-64d9-4770-f6b8-25371117857b"
      },
      "execution_count": null,
      "outputs": [
        {
          "output_type": "stream",
          "name": "stdout",
          "text": [
            "arr1 1\n",
            "arr2 2\n",
            "arr3 3\n"
          ]
        }
      ]
    },
    {
      "cell_type": "markdown",
      "source": [
        "# **Shape & Reshape**"
      ],
      "metadata": {
        "id": "C4whKV651Ahm"
      }
    },
    {
      "cell_type": "code",
      "source": [
        "# shape use to give us the dimention of array\n",
        "arr1= np.array([[1,2,3],\n",
        "               [3,4,5],\n",
        "               [6,7,9]])\n",
        "arr1.shape"
      ],
      "metadata": {
        "colab": {
          "base_uri": "https://localhost:8080/"
        },
        "id": "r09QnPu-07zx",
        "outputId": "e7829f2d-9b8f-4e63-9578-5cbd5ecc848f"
      },
      "execution_count": null,
      "outputs": [
        {
          "output_type": "execute_result",
          "data": {
            "text/plain": [
              "(3, 3)"
            ]
          },
          "metadata": {},
          "execution_count": 17
        }
      ]
    },
    {
      "cell_type": "code",
      "source": [
        "arr3 = np.array([[[1,2,3],[4,5,6]],\n",
        "                [[7,8,9],[10,11,12]]])\n",
        "arr3.shape"
      ],
      "metadata": {
        "id": "M5JFJlx4Tcwo",
        "colab": {
          "base_uri": "https://localhost:8080/"
        },
        "outputId": "e8f05684-954c-44ed-888c-8af6ee6995a7"
      },
      "execution_count": null,
      "outputs": [
        {
          "output_type": "execute_result",
          "data": {
            "text/plain": [
              "(2, 2, 3)"
            ]
          },
          "metadata": {},
          "execution_count": 18
        }
      ]
    },
    {
      "cell_type": "markdown",
      "source": [
        "# Reshape use to convert the dimention of array LIKE 1D to 2D or 3D and vise versa\n"
      ],
      "metadata": {
        "id": "8YZ4Sde1340U"
      }
    },
    {
      "cell_type": "code",
      "source": [
        "# from 1D to 3D\n",
        "arr = np.arange(1,20,2)\n",
        "print(\"the array :\", arr,\"\\n\")\n",
        "arr1 = arr.reshape(5,2)\n",
        "print(\"the array after reshape :\\n\", arr1)"
      ],
      "metadata": {
        "colab": {
          "base_uri": "https://localhost:8080/"
        },
        "id": "uSkawGNbccvV",
        "outputId": "94213893-d6cf-452e-f449-862faf3e8ce0"
      },
      "execution_count": null,
      "outputs": [
        {
          "output_type": "stream",
          "name": "stdout",
          "text": [
            "the array : [ 1  3  5  7  9 11 13 15 17 19] \n",
            "\n",
            "the array after reshape :\n",
            " [[ 1  3]\n",
            " [ 5  7]\n",
            " [ 9 11]\n",
            " [13 15]\n",
            " [17 19]]\n"
          ]
        }
      ]
    },
    {
      "cell_type": "code",
      "source": [
        "# from 1D to 3D\n",
        "arr = np.arange(1,20,2)\n",
        "print(\"the array :\", arr,\"\\n\")\n",
        "arr1 = arr.reshape(1,2,5)\n",
        "print(\"the array after reshape :\\n\", arr1)"
      ],
      "metadata": {
        "colab": {
          "base_uri": "https://localhost:8080/"
        },
        "id": "WitozqtxcfLi",
        "outputId": "d0c3b770-c6b3-427f-b073-b10ffbd5949c"
      },
      "execution_count": null,
      "outputs": [
        {
          "output_type": "stream",
          "name": "stdout",
          "text": [
            "the array : [ 1  3  5  7  9 11 13 15 17 19] \n",
            "\n",
            "the array after reshape :\n",
            " [[[ 1  3  5  7  9]\n",
            "  [11 13 15 17 19]]]\n"
          ]
        }
      ]
    },
    {
      "cell_type": "code",
      "source": [
        "arr = np.array([[1,2,3],[4,5,6]])\n",
        "print(\"the array: \\n\", arr,\"\\n\")\n",
        "arr1 = arr.reshape(-1)\n",
        "print(\"the array after reshape :\\n\", arr1)"
      ],
      "metadata": {
        "colab": {
          "base_uri": "https://localhost:8080/"
        },
        "id": "oEfAPRa03vXn",
        "outputId": "d98cff4d-6766-4de9-987d-a680445f87d9"
      },
      "execution_count": null,
      "outputs": [
        {
          "output_type": "stream",
          "name": "stdout",
          "text": [
            "the array: \n",
            " [[1 2 3]\n",
            " [4 5 6]] \n",
            "\n",
            "the array after reshape :\n",
            " [1 2 3 4 5 6]\n"
          ]
        }
      ]
    },
    {
      "cell_type": "markdown",
      "source": [
        "# Indexing & slicing"
      ],
      "metadata": {
        "id": "ljmELf114izb"
      }
    },
    {
      "cell_type": "code",
      "source": [
        "# access element by its index 1D\n",
        "arr = np.arange(1,10)\n",
        "print(arr)\n",
        "print(arr[3])"
      ],
      "metadata": {
        "colab": {
          "base_uri": "https://localhost:8080/"
        },
        "id": "gkPc3YvMcnU7",
        "outputId": "ee6659d5-739b-4e3c-e783-5aaf9cb7c50e"
      },
      "execution_count": null,
      "outputs": [
        {
          "output_type": "stream",
          "name": "stdout",
          "text": [
            "[1 2 3 4 5 6 7 8 9]\n",
            "4\n"
          ]
        }
      ]
    },
    {
      "cell_type": "code",
      "source": [
        "# access element by its index 2D\n",
        "arr = np.array([[1,2,3],[4,5,6]])\n",
        "print(arr)\n",
        "print(arr[1,2])"
      ],
      "metadata": {
        "colab": {
          "base_uri": "https://localhost:8080/"
        },
        "id": "HAdHchNPLkmv",
        "outputId": "57a9e97d-7714-4a6f-f398-6202b9d9907a"
      },
      "execution_count": null,
      "outputs": [
        {
          "output_type": "stream",
          "name": "stdout",
          "text": [
            "[[1 2 3]\n",
            " [4 5 6]]\n",
            "6\n"
          ]
        }
      ]
    },
    {
      "cell_type": "code",
      "source": [
        "# access element by its index 3D\n",
        "arr = np.array([[[1,2,3],[4,5,6]],[[8,9,0],[10,26,15]]])\n",
        "print(arr)\n",
        "print(arr[1,1,2])"
      ],
      "metadata": {
        "colab": {
          "base_uri": "https://localhost:8080/"
        },
        "id": "b7N5Mb9xLpEd",
        "outputId": "c168c28d-93f1-488f-de24-af99d7a5d769"
      },
      "execution_count": null,
      "outputs": [
        {
          "output_type": "stream",
          "name": "stdout",
          "text": [
            "[[[ 1  2  3]\n",
            "  [ 4  5  6]]\n",
            "\n",
            " [[ 8  9  0]\n",
            "  [10 26 15]]]\n",
            "15\n"
          ]
        }
      ]
    },
    {
      "cell_type": "code",
      "source": [
        "# slicing 1D arry[start:end:step]\n",
        "arr = np.arange(1,10)\n",
        "print(arr)\n",
        "print(arr[1:5:3])"
      ],
      "metadata": {
        "id": "tSoH0DSANCLE"
      },
      "execution_count": null,
      "outputs": []
    },
    {
      "cell_type": "code",
      "source": [
        "# slicing 2D arry[start:end:step]\n",
        "arr = np.array([[1,2,3,7,8,9],[4,5,6,10,11,12],[13,45,67,6,21,88]])\n",
        "print(arr)\n",
        "print(arr[0:2,0:3])"
      ],
      "metadata": {
        "colab": {
          "base_uri": "https://localhost:8080/"
        },
        "id": "-qSyzn7zMqTx",
        "outputId": "215ffce9-28cc-42c4-ed44-4644e464d559"
      },
      "execution_count": null,
      "outputs": [
        {
          "output_type": "stream",
          "name": "stdout",
          "text": [
            "[[ 1  2  3  7  8  9]\n",
            " [ 4  5  6 10 11 12]\n",
            " [13 45 67  6 21 88]]\n",
            "[[1 2 3]\n",
            " [4 5 6]]\n"
          ]
        }
      ]
    },
    {
      "cell_type": "markdown",
      "source": [
        "# Data type\n",
        "\n",
        "\n",
        "1.   int8, int16, int32, int64 - signed integer types with different bit sizes.\n",
        "\n",
        "2.   uint8, uint16, uint32, uint64 - unsigned integer types with\n",
        "different bit sizes\n",
        "\n",
        "1.   float32, float64 - floating-point types with different precision levels\n",
        "2.   complex64, complex128 - complex number types with different precision levels\n",
        "\n",
        "\n",
        "\n",
        "\n",
        "\n",
        "\n",
        "\n"
      ],
      "metadata": {
        "id": "l0TGnSdQOtZU"
      }
    },
    {
      "cell_type": "code",
      "source": [
        "# to know data type of an array we use dtype()\n",
        "arr = np.arange(20)\n",
        "print(arr.dtype)"
      ],
      "metadata": {
        "colab": {
          "base_uri": "https://localhost:8080/"
        },
        "id": "56aGeyNQQNjI",
        "outputId": "3bce8383-c1dc-48c1-c38f-9d43b28dc47a"
      },
      "execution_count": null,
      "outputs": [
        {
          "output_type": "stream",
          "name": "stdout",
          "text": [
            "int64\n"
          ]
        }
      ]
    },
    {
      "cell_type": "code",
      "source": [
        "arr = np.array([\"hg\",\"ca\",\"na\"])\n",
        "print(arr.dtype)"
      ],
      "metadata": {
        "colab": {
          "base_uri": "https://localhost:8080/"
        },
        "id": "9BKggMmVQrLc",
        "outputId": "37d89ce0-795a-4588-d41b-197a050b1ddf"
      },
      "execution_count": null,
      "outputs": [
        {
          "output_type": "stream",
          "name": "stdout",
          "text": [
            "<U2\n"
          ]
        }
      ]
    },
    {
      "cell_type": "code",
      "source": [
        "arr = np.array([2j,4,6+3j])\n",
        "print(arr.dtype)"
      ],
      "metadata": {
        "colab": {
          "base_uri": "https://localhost:8080/"
        },
        "id": "5xXf0s7TRgkD",
        "outputId": "5737f8b9-7f71-46a7-d30a-38eafe293d02"
      },
      "execution_count": null,
      "outputs": [
        {
          "output_type": "stream",
          "name": "stdout",
          "text": [
            "complex128\n"
          ]
        }
      ]
    },
    {
      "cell_type": "markdown",
      "source": [
        "# Array iterating"
      ],
      "metadata": {
        "id": "T0_alggURyTG"
      }
    },
    {
      "cell_type": "code",
      "source": [
        "# it is mean to going through all elements inside array\n",
        "arr = np.array([1,2,3,4,5])\n",
        "for x in arr:\n",
        "  print(x)"
      ],
      "metadata": {
        "colab": {
          "base_uri": "https://localhost:8080/"
        },
        "id": "9odtJafoRuFo",
        "outputId": "4c5046fd-265b-4ea7-9106-f24d61c394c4"
      },
      "execution_count": null,
      "outputs": [
        {
          "output_type": "stream",
          "name": "stdout",
          "text": [
            "1\n",
            "2\n",
            "3\n",
            "4\n",
            "5\n"
          ]
        }
      ]
    },
    {
      "cell_type": "code",
      "source": [
        "#if we want to do that for multi dimentional arry we use nditer()\n",
        "arr = np.array([[1,2,3],[4,5,6]])\n",
        "for x in np.nditer(arr):\n",
        "  print(x)"
      ],
      "metadata": {
        "colab": {
          "base_uri": "https://localhost:8080/"
        },
        "id": "9iI73VUhSeL7",
        "outputId": "bf70d420-910b-44b8-a211-7f996138eaeb"
      },
      "execution_count": null,
      "outputs": [
        {
          "output_type": "stream",
          "name": "stdout",
          "text": [
            "1\n",
            "2\n",
            "3\n",
            "4\n",
            "5\n",
            "6\n"
          ]
        }
      ]
    },
    {
      "cell_type": "code",
      "source": [
        "# ndenumerate() use it to give index and value of the element we want to access\n",
        "arr = np.array([[1,2,3],[4,5,6]])\n",
        "for x,y in np.ndenumerate(arr):\n",
        "  print(x,y)"
      ],
      "metadata": {
        "colab": {
          "base_uri": "https://localhost:8080/"
        },
        "id": "3iK2hDKwTBab",
        "outputId": "159ebe78-1128-4506-f8ac-468947729277"
      },
      "execution_count": null,
      "outputs": [
        {
          "output_type": "stream",
          "name": "stdout",
          "text": [
            "(0, 0) 1\n",
            "(0, 1) 2\n",
            "(0, 2) 3\n",
            "(1, 0) 4\n",
            "(1, 1) 5\n",
            "(1, 2) 6\n"
          ]
        }
      ]
    },
    {
      "cell_type": "code",
      "source": [
        "# concatenate() use to joining two array\n",
        "arr0 = np.arange(5)\n",
        "arr1 = np.ones(6)\n",
        "print(np.concatenate((arr0,arr1)))"
      ],
      "metadata": {
        "colab": {
          "base_uri": "https://localhost:8080/"
        },
        "id": "ZTcvRdy7UzET",
        "outputId": "6402adf4-0bb6-4eef-88e1-0d6e126cd18b"
      },
      "execution_count": null,
      "outputs": [
        {
          "output_type": "stream",
          "name": "stdout",
          "text": [
            "[0. 1. 2. 3. 4. 1. 1. 1. 1. 1. 1.]\n"
          ]
        }
      ]
    },
    {
      "cell_type": "code",
      "source": [
        "# concatenate() with 2D array (axis 0)\n",
        "arr0 = np.array([[1,2,3],[5,6,7]])\n",
        "arr1 = np.array([[8,9,10],[15,16,17]])\n",
        "print(np.concatenate((arr0,arr1),axis=0))"
      ],
      "metadata": {
        "colab": {
          "base_uri": "https://localhost:8080/"
        },
        "id": "T18_5PWTWIs-",
        "outputId": "a7147ec7-26a9-416b-e9be-cb53f16de112"
      },
      "execution_count": null,
      "outputs": [
        {
          "output_type": "stream",
          "name": "stdout",
          "text": [
            "[[ 1  2  3]\n",
            " [ 5  6  7]\n",
            " [ 8  9 10]\n",
            " [15 16 17]]\n"
          ]
        }
      ]
    },
    {
      "cell_type": "code",
      "source": [
        "# concatenate() with 2D array (axis 1)\n",
        "arr0 = np.array([[1,2,3],[5,6,7]])\n",
        "arr1 = np.array([[8,9,10],[15,16,17]])\n",
        "print(np.concatenate((arr0,arr1),axis=1))"
      ],
      "metadata": {
        "colab": {
          "base_uri": "https://localhost:8080/"
        },
        "id": "HfYliO_eVu4b",
        "outputId": "097df525-d677-42a2-c94c-b74e3422d1de"
      },
      "execution_count": null,
      "outputs": [
        {
          "output_type": "stream",
          "name": "stdout",
          "text": [
            "[[ 1  2  3  8  9 10]\n",
            " [ 5  6  7 15 16 17]]\n"
          ]
        }
      ]
    },
    {
      "cell_type": "markdown",
      "source": [
        "# Spliting array"
      ],
      "metadata": {
        "id": "Kfbce2UnWibU"
      }
    },
    {
      "cell_type": "code",
      "source": [
        "# array_split(array,number of pieces) use to split an array\n",
        "arr = np.array([3,5,7,8,9,32])\n",
        "narr = np.array_split(arr,4)\n",
        "print(\"array after spliting :\",narr,\"\\n\")\n",
        "print(\"index zero of new array : \",narr[0])"
      ],
      "metadata": {
        "colab": {
          "base_uri": "https://localhost:8080/"
        },
        "id": "i3ifct_PWRDz",
        "outputId": "358ffb8c-8faf-4501-ca17-07df12117f40"
      },
      "execution_count": null,
      "outputs": [
        {
          "output_type": "stream",
          "name": "stdout",
          "text": [
            "array after spliting : [array([3, 5]), array([7, 8]), array([9]), array([32])] \n",
            "\n",
            "index zero of new array :  [3 5]\n"
          ]
        }
      ]
    },
    {
      "cell_type": "code",
      "source": [
        "# split 2D array\n",
        "arr = np.array([[1,2,3],[5,6,7]])\n",
        "narr = np.array_split(arr,4,axis=1)\n",
        "print(\"array after spliting :\",narr,\"\\n\")\n",
        "print(\"index zero of new array :\\n \",narr[0])"
      ],
      "metadata": {
        "colab": {
          "base_uri": "https://localhost:8080/"
        },
        "id": "J7WENM62coYV",
        "outputId": "5d10d0e2-fbf2-445b-8119-644d42ebb187"
      },
      "execution_count": null,
      "outputs": [
        {
          "output_type": "stream",
          "name": "stdout",
          "text": [
            "array after spliting : [array([[1],\n",
            "       [5]]), array([[2],\n",
            "       [6]]), array([[3],\n",
            "       [7]]), array([], shape=(2, 0), dtype=int64)] \n",
            "\n",
            "index zero of new array :\n",
            "  [[1]\n",
            " [5]]\n"
          ]
        }
      ]
    },
    {
      "cell_type": "markdown",
      "source": [
        "# Searching in array"
      ],
      "metadata": {
        "id": "rvEm8fVqdsbW"
      }
    },
    {
      "cell_type": "code",
      "source": [
        "# we use where(condition) to search element inside array it is return the index of the value\n",
        "arr = np.array([12,32,63,64,95])\n",
        "y = np.where(arr == 12)\n",
        "x = np.where(arr%2 == 0)\n",
        "print(y)\n",
        "print(x)"
      ],
      "metadata": {
        "colab": {
          "base_uri": "https://localhost:8080/"
        },
        "id": "MhR5sMXmdNP0",
        "outputId": "23885bee-2346-47de-c343-0b8f5f13490d"
      },
      "execution_count": null,
      "outputs": [
        {
          "output_type": "stream",
          "name": "stdout",
          "text": [
            "(array([0]),)\n",
            "(array([0, 1, 3]),)\n"
          ]
        }
      ]
    },
    {
      "cell_type": "code",
      "source": [
        "# searchsorted() use to search sorted array\n",
        "arr = ([3,5,7,9,10])\n",
        "x = np.searchsorted(arr,10)\n",
        "print(x)"
      ],
      "metadata": {
        "colab": {
          "base_uri": "https://localhost:8080/"
        },
        "id": "poLD4ukQfZ0o",
        "outputId": "8a53b713-e33b-4ed3-bce7-b799b2169d3b"
      },
      "execution_count": null,
      "outputs": [
        {
          "output_type": "stream",
          "name": "stdout",
          "text": [
            "4\n"
          ]
        }
      ]
    },
    {
      "cell_type": "markdown",
      "source": [
        "# sort array"
      ],
      "metadata": {
        "id": "crH8ZSzmf_kA"
      }
    },
    {
      "cell_type": "code",
      "source": [
        "# sort(array) use to sort array 1D\n",
        "arr = np.array([3,8,4,6,2,1])\n",
        "print(np.sort(arr))"
      ],
      "metadata": {
        "colab": {
          "base_uri": "https://localhost:8080/"
        },
        "id": "NuaoVw7lf_Cu",
        "outputId": "6c6cbb99-93b8-41f6-a2f3-595ceb1f3821"
      },
      "execution_count": null,
      "outputs": [
        {
          "output_type": "stream",
          "name": "stdout",
          "text": [
            "[1 2 3 4 6 8]\n"
          ]
        }
      ]
    },
    {
      "cell_type": "code",
      "source": [
        "# 2D sort\n",
        "arr = np.array([[19,12,3],[51,16,27]])\n",
        "print(np.sort(arr))"
      ],
      "metadata": {
        "colab": {
          "base_uri": "https://localhost:8080/"
        },
        "id": "S9sxLX0IgeLJ",
        "outputId": "5f445c31-dbe8-4873-9a34-0437093330ea"
      },
      "execution_count": null,
      "outputs": [
        {
          "output_type": "stream",
          "name": "stdout",
          "text": [
            "[[ 3 12 19]\n",
            " [16 27 51]]\n"
          ]
        }
      ]
    },
    {
      "cell_type": "markdown",
      "source": [
        "# **Universal Functions (ufunc)**\n",
        "# Arithmetic ufunc"
      ],
      "metadata": {
        "id": "iKO11OW_i2CB"
      }
    },
    {
      "cell_type": "code",
      "source": [
        "# add()\n",
        "arr0 = np.array([[1,2,3,4],[5,6,7,8]])\n",
        "arr1 = np.array([[1,2,3,4],[5,6,7,8]])\n",
        "print(\"additon\\n\",np.add(arr0,arr1))"
      ],
      "metadata": {
        "colab": {
          "base_uri": "https://localhost:8080/"
        },
        "id": "zQFNExX8g5mW",
        "outputId": "1fd18206-816b-4052-c52b-d0ae84187283"
      },
      "execution_count": null,
      "outputs": [
        {
          "output_type": "stream",
          "name": "stdout",
          "text": [
            "additon\n",
            " [[ 2  4  6  8]\n",
            " [10 12 14 16]]\n"
          ]
        }
      ]
    },
    {
      "cell_type": "code",
      "source": [
        "# subtract()\n",
        "arr0 = np.array([[1,2,3,4],[5,6,7,8]])\n",
        "arr1 = np.array([[1,2,3,4],[5,6,7,8]])\n",
        "print(\"subtraction\\n\",np.subtract(arr0,arr1))"
      ],
      "metadata": {
        "colab": {
          "base_uri": "https://localhost:8080/"
        },
        "id": "qTr-9FoIlj-A",
        "outputId": "d1986a13-f4f3-495b-ab99-d4d9df0743ea"
      },
      "execution_count": null,
      "outputs": [
        {
          "output_type": "stream",
          "name": "stdout",
          "text": [
            "subtraction\n",
            " [[0 0 0 0]\n",
            " [0 0 0 0]]\n"
          ]
        }
      ]
    },
    {
      "cell_type": "code",
      "source": [
        "# multiply()\n",
        "arr0 = np.array([[1,2,3,4],[5,6,7,8]])\n",
        "arr1 = np.array([[1,2,3,4],[5,6,7,8]])\n",
        "print(\"multiplcation\\n\",np.multiply(arr0,arr1))"
      ],
      "metadata": {
        "colab": {
          "base_uri": "https://localhost:8080/"
        },
        "id": "JBaVN1SSl2Uq",
        "outputId": "6aede8e8-3812-49b9-fb0d-fa168e8a47fe"
      },
      "execution_count": null,
      "outputs": [
        {
          "output_type": "stream",
          "name": "stdout",
          "text": [
            "multiplcation\n",
            " [[ 1  4  9 16]\n",
            " [25 36 49 64]]\n"
          ]
        }
      ]
    },
    {
      "cell_type": "code",
      "source": [
        "# divide()\n",
        "arr0 = np.array([[1,2,3,4],[5,6,7,8]])\n",
        "arr1 = np.array([[1,2,3,4],[5,6,7,8]])\n",
        "print(\"division\\n\",np.divide(arr0,arr1))"
      ],
      "metadata": {
        "colab": {
          "base_uri": "https://localhost:8080/"
        },
        "id": "44qSv8kFmD2L",
        "outputId": "179556a8-bee0-4e17-e627-09fc2c63b210"
      },
      "execution_count": null,
      "outputs": [
        {
          "output_type": "stream",
          "name": "stdout",
          "text": [
            "division\n",
            " [[1. 1. 1. 1.]\n",
            " [1. 1. 1. 1.]]\n"
          ]
        }
      ]
    },
    {
      "cell_type": "code",
      "source": [
        "# power()\n",
        "arr0 = np.array([[1,2,3,4],[5,6,7,8]])\n",
        "arr1 = np.array([[1,2,3,4],[5,6,7,8]])\n",
        "print(\"power\\n\",np.power(arr0,arr1))"
      ],
      "metadata": {
        "colab": {
          "base_uri": "https://localhost:8080/"
        },
        "id": "scyXDsNVmULt",
        "outputId": "b9e9d74a-0108-436e-ac6e-5cbfe1b6de26"
      },
      "execution_count": null,
      "outputs": [
        {
          "output_type": "stream",
          "name": "stdout",
          "text": [
            "power\n",
            " [[       1        4       27      256]\n",
            " [    3125    46656   823543 16777216]]\n"
          ]
        }
      ]
    },
    {
      "cell_type": "code",
      "source": [
        "# mod()\n",
        "arr0 = np.array([[1,2,3,4],[5,6,7,8]])\n",
        "arr1 = np.array([[1,2,3,4],[5,6,7,8]])\n",
        "print(\"reminder\\n\",np.mod(arr0,arr1))"
      ],
      "metadata": {
        "colab": {
          "base_uri": "https://localhost:8080/"
        },
        "id": "GEKj8puumVF5",
        "outputId": "3114f8a7-d5cf-4337-9108-e7e63c328df5"
      },
      "execution_count": null,
      "outputs": [
        {
          "output_type": "stream",
          "name": "stdout",
          "text": [
            "reminder\n",
            " [[0 0 0 0]\n",
            " [0 0 0 0]]\n"
          ]
        }
      ]
    },
    {
      "cell_type": "code",
      "source": [
        "# add()\n",
        "arr0 = np.array([[1,2,3,4],[5,6,7,8]])\n",
        "arr1 = np.array([[1,2,3,4],[5,6,7,8]])\n",
        "print(\"additon\\n\",np.add(arr0,arr1))"
      ],
      "metadata": {
        "id": "tCEQ80wJmWcP"
      },
      "execution_count": null,
      "outputs": []
    },
    {
      "cell_type": "markdown",
      "source": [
        "# Statistical Functions"
      ],
      "metadata": {
        "id": "bQ0tucpOnLD-"
      }
    },
    {
      "cell_type": "code",
      "source": [
        "# min() & max() use to show minimum and maximum value\n",
        "arr = np.array([[19,12,3],[51,16,27]])\n",
        "print(\"minimum = \",np.min(arr))\n",
        "print(\"maximum = \",np.max(arr))"
      ],
      "metadata": {
        "colab": {
          "base_uri": "https://localhost:8080/"
        },
        "id": "Eag-BxnumWO8",
        "outputId": "0d5e3b39-c75e-41c2-a6f7-2979c0ca5b12"
      },
      "execution_count": null,
      "outputs": [
        {
          "output_type": "stream",
          "name": "stdout",
          "text": [
            "minimum =  3\n",
            "maximum =  51\n"
          ]
        }
      ]
    },
    {
      "cell_type": "code",
      "source": [
        "# mean() sum of datasetes divide the numbers of them\n",
        "arr = np.array([[19,12,3],[51,16,27]])\n",
        "print(\"mean = \",np.mean(arr))"
      ],
      "metadata": {
        "colab": {
          "base_uri": "https://localhost:8080/"
        },
        "id": "F85M-Jfgn6nx",
        "outputId": "615516a5-224b-4714-ecee-a331cb6bec46"
      },
      "execution_count": null,
      "outputs": [
        {
          "output_type": "stream",
          "name": "stdout",
          "text": [
            "mean =  21.333333333333332\n"
          ]
        }
      ]
    },
    {
      "cell_type": "code",
      "source": [
        "# median() the middle number in a sorted ascending or descending list of numbers\n",
        "arr = np.array([[19,12,3],[51,16,27]])\n",
        "print(\"median = \",np.median(arr))"
      ],
      "metadata": {
        "colab": {
          "base_uri": "https://localhost:8080/"
        },
        "id": "kDUySr-2pOiQ",
        "outputId": "359e32ba-0679-499d-de1c-9d9baa7220f0"
      },
      "execution_count": null,
      "outputs": [
        {
          "output_type": "stream",
          "name": "stdout",
          "text": [
            "mean =  17.5\n"
          ]
        }
      ]
    },
    {
      "cell_type": "code",
      "source": [
        "# std() the average amount of variability in dataset\n",
        "arr = np.array([[19,12,3],[51,16,27]])\n",
        "print(\"standard deviation  = \",np.std(arr))"
      ],
      "metadata": {
        "colab": {
          "base_uri": "https://localhost:8080/"
        },
        "id": "iH6MbFcMpW38",
        "outputId": "8d0a2b30-ad60-4acc-b6ae-017c1473744c"
      },
      "execution_count": null,
      "outputs": [
        {
          "output_type": "stream",
          "name": "stdout",
          "text": [
            "standard deviation  =  15.107025591499546\n"
          ]
        }
      ]
    },
    {
      "cell_type": "code",
      "source": [
        "# percentile() describes how a score compares to other scores from the same set\n",
        "arr = np.array([[19,12,3],[51,16,27]])\n",
        "print(\"percentile = \",np.percentile(arr,q=2))"
      ],
      "metadata": {
        "colab": {
          "base_uri": "https://localhost:8080/"
        },
        "id": "FG5Di_zBpZrh",
        "outputId": "fed5e26f-8dc5-4a55-f058-c77e0269dc15"
      },
      "execution_count": null,
      "outputs": [
        {
          "output_type": "stream",
          "name": "stdout",
          "text": [
            "percentile =  3.9\n"
          ]
        }
      ]
    },
    {
      "cell_type": "markdown",
      "source": [
        "# Rounding"
      ],
      "metadata": {
        "id": "BBUrIKp3rb0E"
      }
    },
    {
      "cell_type": "code",
      "source": [
        "# trunc() use to remove the part after point\n",
        "arr = np.trunc([1.34,5.67,3.12])\n",
        "arr"
      ],
      "metadata": {
        "colab": {
          "base_uri": "https://localhost:8080/"
        },
        "id": "LMgCKoGfstXX",
        "outputId": "4b011ebd-219b-44bc-81e5-f65e2a6b795e"
      },
      "execution_count": null,
      "outputs": [
        {
          "output_type": "execute_result",
          "data": {
            "text/plain": [
              "array([1., 5., 3.])"
            ]
          },
          "metadata": {},
          "execution_count": 2
        }
      ]
    },
    {
      "cell_type": "code",
      "source": [
        "# around() when the number is  => 5 it will be rounde to the bigger number else it will keep as same\n",
        "arr = np.around([1.34,5.67,3.12])\n",
        "arr"
      ],
      "metadata": {
        "colab": {
          "base_uri": "https://localhost:8080/"
        },
        "id": "yHZaNbM8sUX8",
        "outputId": "8022e2c8-818b-4944-d209-da89c93f089d"
      },
      "execution_count": null,
      "outputs": [
        {
          "output_type": "execute_result",
          "data": {
            "text/plain": [
              "array([1., 6., 3.])"
            ]
          },
          "metadata": {},
          "execution_count": 5
        }
      ]
    },
    {
      "cell_type": "code",
      "source": [
        "# floor() use to round number to nearest lower number\n",
        "arr = np.floor([1.34,5.67,3.12])\n",
        "arr"
      ],
      "metadata": {
        "colab": {
          "base_uri": "https://localhost:8080/"
        },
        "id": "0UR4bGfItCzE",
        "outputId": "4bc0a232-b007-4119-889d-63e1240a72ad"
      },
      "execution_count": null,
      "outputs": [
        {
          "output_type": "execute_result",
          "data": {
            "text/plain": [
              "array([1., 5., 3.])"
            ]
          },
          "metadata": {},
          "execution_count": 6
        }
      ]
    },
    {
      "cell_type": "code",
      "source": [
        "# ceil() use to round number to nearest greater number\n",
        "arr = np.ceil([1.34,5.67,3.12])\n",
        "arr"
      ],
      "metadata": {
        "colab": {
          "base_uri": "https://localhost:8080/"
        },
        "id": "8giaqheytb6z",
        "outputId": "a8edb67a-49ec-41e4-b0b7-7f77c76f3818"
      },
      "execution_count": null,
      "outputs": [
        {
          "output_type": "execute_result",
          "data": {
            "text/plain": [
              "array([2., 6., 4.])"
            ]
          },
          "metadata": {},
          "execution_count": 7
        }
      ]
    }
  ]
}