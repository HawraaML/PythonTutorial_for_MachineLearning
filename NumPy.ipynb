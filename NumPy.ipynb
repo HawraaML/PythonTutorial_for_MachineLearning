{
  "nbformat": 4,
  "nbformat_minor": 0,
  "metadata": {
    "colab": {
      "provenance": [],
      "authorship_tag": "ABX9TyM33m88KEIvXdhcyzKalVod",
      "include_colab_link": true
    },
    "kernelspec": {
      "name": "python3",
      "display_name": "Python 3"
    },
    "language_info": {
      "name": "python"
    }
  },
  "cells": [
    {
      "cell_type": "markdown",
      "metadata": {
        "id": "view-in-github",
        "colab_type": "text"
      },
      "source": [
        "<a href=\"https://colab.research.google.com/github/HawraaML/python_tutorial/blob/main/NumPy.ipynb\" target=\"_parent\"><img src=\"https://colab.research.google.com/assets/colab-badge.svg\" alt=\"Open In Colab\"/></a>"
      ]
    },
    {
      "cell_type": "markdown",
      "source": [
        "# **Numpy**\n",
        "\n",
        "\n",
        "\n",
        "1.   Introduction\n",
        "\n",
        "1.   create a vector & array\n",
        "\n",
        "1.   shape and reshape\n",
        "\n",
        "1.   Indexing\n",
        "\n",
        "1.   Slicing\n",
        "\n",
        "1.   Data type\n",
        "\n",
        "2.   Array iteration\n",
        "\n",
        "2.   join\n",
        "\n",
        "2.   split\n",
        "\n",
        "2.   search\n",
        "\n",
        "1.   sort\n",
        "\n",
        "2.   Universal functions (ufunc)\n",
        "           - Arithmetic\n",
        "           - Statistical Functions\n",
        "           - Rounding\n",
        "\n"
      ],
      "metadata": {
        "id": "hAceE4c9KjqO"
      }
    },
    {
      "cell_type": "markdown",
      "source": [
        " **NumPy** : is a Python library used for working with arrays. It also has functions for working in domain of linear algebra, fourier transform, and matrices."
      ],
      "metadata": {
        "id": "viWnUZVHnNHb"
      }
    },
    {
      "cell_type": "code",
      "execution_count": 1,
      "metadata": {
        "id": "Tzrx2c7PRMMn",
        "colab": {
          "base_uri": "https://localhost:8080/"
        },
        "outputId": "31e90736-2c3e-4237-fb88-d5b8b8cf082a"
      },
      "outputs": [
        {
          "output_type": "stream",
          "name": "stdout",
          "text": [
            "Requirement already satisfied: numpy in /usr/local/lib/python3.10/dist-packages (1.23.5)\n"
          ]
        }
      ],
      "source": [
        "!pip install numpy"
      ]
    },
    {
      "cell_type": "code",
      "source": [
        "import numpy as np"
      ],
      "metadata": {
        "id": "vHkGsxksTTKh"
      },
      "execution_count": 13,
      "outputs": []
    },
    {
      "cell_type": "code",
      "source": [
        "print(np.__version__)"
      ],
      "metadata": {
        "id": "3ugyj4TruJR7",
        "outputId": "261fa6fc-2cc2-4691-cef9-5dc734c8708b",
        "colab": {
          "base_uri": "https://localhost:8080/"
        }
      },
      "execution_count": 4,
      "outputs": [
        {
          "output_type": "stream",
          "name": "stdout",
          "text": [
            "1.23.5\n"
          ]
        }
      ]
    },
    {
      "cell_type": "code",
      "source": [
        "vector = ([1,2,3,4])\n",
        "vector"
      ],
      "metadata": {
        "colab": {
          "base_uri": "https://localhost:8080/"
        },
        "id": "1swQS2EjKTUh",
        "outputId": "b371f002-de12-4d04-a3ab-807bc5982e20"
      },
      "execution_count": 5,
      "outputs": [
        {
          "output_type": "execute_result",
          "data": {
            "text/plain": [
              "[1, 2, 3, 4]"
            ]
          },
          "metadata": {},
          "execution_count": 5
        }
      ]
    },
    {
      "cell_type": "code",
      "source": [
        "# vector of zeros\n",
        "vector0 = np.zeros(10)\n",
        "vector0"
      ],
      "metadata": {
        "colab": {
          "base_uri": "https://localhost:8080/"
        },
        "id": "Igr1j31oKdF3",
        "outputId": "9716ee1f-0060-4732-d39b-cb451150492e"
      },
      "execution_count": 6,
      "outputs": [
        {
          "output_type": "execute_result",
          "data": {
            "text/plain": [
              "array([0., 0., 0., 0., 0., 0., 0., 0., 0., 0.])"
            ]
          },
          "metadata": {},
          "execution_count": 6
        }
      ]
    },
    {
      "cell_type": "code",
      "source": [
        "# vector of ones\n",
        "vector1 = np.ones(12)\n",
        "vector1"
      ],
      "metadata": {
        "colab": {
          "base_uri": "https://localhost:8080/"
        },
        "id": "QahvJ15sQLpj",
        "outputId": "6acacd64-d0ac-405c-9df8-3b8c7bb35367"
      },
      "execution_count": 7,
      "outputs": [
        {
          "output_type": "execute_result",
          "data": {
            "text/plain": [
              "array([1., 1., 1., 1., 1., 1., 1., 1., 1., 1., 1., 1.])"
            ]
          },
          "metadata": {},
          "execution_count": 7
        }
      ]
    },
    {
      "cell_type": "code",
      "source": [
        "# vector with range of elements\n",
        "vector = np.arange(1,10)\n",
        "vector"
      ],
      "metadata": {
        "colab": {
          "base_uri": "https://localhost:8080/"
        },
        "id": "CxBg-w5BQUwB",
        "outputId": "acfd9881-6cae-43f9-b1f3-d90f8c674b96"
      },
      "execution_count": 8,
      "outputs": [
        {
          "output_type": "execute_result",
          "data": {
            "text/plain": [
              "array([1, 2, 3, 4, 5, 6, 7, 8, 9])"
            ]
          },
          "metadata": {},
          "execution_count": 8
        }
      ]
    },
    {
      "cell_type": "code",
      "source": [
        "# vector of range of elements with steps arange(start,end,step)\n",
        "vector = np.arange(1,10,2)\n",
        "vector"
      ],
      "metadata": {
        "colab": {
          "base_uri": "https://localhost:8080/"
        },
        "id": "yY2mBN5cx-4r",
        "outputId": "0015c79f-5e0b-4dda-f53b-bf649ead2c46"
      },
      "execution_count": 9,
      "outputs": [
        {
          "output_type": "execute_result",
          "data": {
            "text/plain": [
              "array([1, 3, 5, 7, 9])"
            ]
          },
          "metadata": {},
          "execution_count": 9
        }
      ]
    },
    {
      "cell_type": "code",
      "source": [
        "# 2D array (matrix)\n",
        "arr = np.array([[1,2,3],\n",
        "                [4,5,6],\n",
        "                [7,8,9]])\n",
        "arr"
      ],
      "metadata": {
        "colab": {
          "base_uri": "https://localhost:8080/"
        },
        "id": "-0HR60FlQt9Y",
        "outputId": "a709a729-f846-4520-86ea-011feb3a3557"
      },
      "execution_count": 10,
      "outputs": [
        {
          "output_type": "execute_result",
          "data": {
            "text/plain": [
              "array([[1, 2, 3],\n",
              "       [4, 5, 6],\n",
              "       [7, 8, 9]])"
            ]
          },
          "metadata": {},
          "execution_count": 10
        }
      ]
    },
    {
      "cell_type": "code",
      "source": [
        "# 3D array (matrix)\n",
        "arr3 = np.array([[[1,2,3],[4,5,6]],\n",
        "                [[7,8,9],[10,11,12]]])\n",
        "arr3"
      ],
      "metadata": {
        "colab": {
          "base_uri": "https://localhost:8080/"
        },
        "id": "FciPQollxoGY",
        "outputId": "08168628-7cce-4c42-9130-9effad243fc2"
      },
      "execution_count": null,
      "outputs": [
        {
          "output_type": "execute_result",
          "data": {
            "text/plain": [
              "array([[[ 1,  2,  3],\n",
              "        [ 4,  5,  6]],\n",
              "\n",
              "       [[ 7,  8,  9],\n",
              "        [10, 11, 12]]])"
            ]
          },
          "metadata": {},
          "execution_count": 9
        }
      ]
    },
    {
      "cell_type": "code",
      "source": [
        "# creating array with random value\n",
        "arr = np.random.rand(5,3)\n",
        "print(arr)"
      ],
      "metadata": {
        "colab": {
          "base_uri": "https://localhost:8080/"
        },
        "id": "xs7i_sTohkm-",
        "outputId": "c5a73f18-b43b-419f-9f42-64b5e959815a"
      },
      "execution_count": 11,
      "outputs": [
        {
          "output_type": "stream",
          "name": "stdout",
          "text": [
            "[[0.41901675 0.22568112 0.22926429]\n",
            " [0.66542709 0.83681199 0.27089096]\n",
            " [0.95607925 0.69179077 0.55864208]\n",
            " [0.38461243 0.47321415 0.89136079]\n",
            " [0.26001168 0.60704226 0.82089021]]\n"
          ]
        }
      ]
    },
    {
      "cell_type": "code",
      "source": [
        "# to know the number of dimention of array we use ndim\n",
        "arr1 = np.zeros(10)\n",
        "arr2 = np.array([[1,2,3],[4,5,6]])\n",
        "arr3 = np.array([[[1,2,3],[4,5,6]]])\n",
        "\n",
        "print(\"arr1\",arr1.ndim)\n",
        "print(\"arr2\",arr2.ndim)\n",
        "print(\"arr3\",arr3.ndim)"
      ],
      "metadata": {
        "colab": {
          "base_uri": "https://localhost:8080/"
        },
        "id": "P6yHaGu7ziiK",
        "outputId": "9fef0ec4-9c20-4a6b-9623-5ecbceaa7946"
      },
      "execution_count": 12,
      "outputs": [
        {
          "output_type": "stream",
          "name": "stdout",
          "text": [
            "arr1 1\n",
            "arr2 2\n",
            "arr3 3\n"
          ]
        }
      ]
    },
    {
      "cell_type": "markdown",
      "source": [
        "# **Shape & Reshape**"
      ],
      "metadata": {
        "id": "C4whKV651Ahm"
      }
    },
    {
      "cell_type": "code",
      "source": [
        "# shape use to give us the dimention of array\n",
        "arr1= np.array([[1,2,3],\n",
        "               [3,4,5],\n",
        "               [6,7,9]])\n",
        "arr1.shape"
      ],
      "metadata": {
        "colab": {
          "base_uri": "https://localhost:8080/"
        },
        "id": "r09QnPu-07zx",
        "outputId": "4428e7cf-5b36-4723-a6ab-05d18dbc2d62"
      },
      "execution_count": 14,
      "outputs": [
        {
          "output_type": "execute_result",
          "data": {
            "text/plain": [
              "(3, 3)"
            ]
          },
          "metadata": {},
          "execution_count": 14
        }
      ]
    },
    {
      "cell_type": "code",
      "source": [
        "arr3 = np.array([[[1,2,3],[4,5,6]],\n",
        "                [[7,8,9],[10,11,12]]])\n",
        "arr3.shape"
      ],
      "metadata": {
        "id": "M5JFJlx4Tcwo",
        "colab": {
          "base_uri": "https://localhost:8080/"
        },
        "outputId": "e8f05684-954c-44ed-888c-8af6ee6995a7"
      },
      "execution_count": null,
      "outputs": [
        {
          "output_type": "execute_result",
          "data": {
            "text/plain": [
              "(2, 2, 3)"
            ]
          },
          "metadata": {},
          "execution_count": 18
        }
      ]
    },
    {
      "cell_type": "markdown",
      "source": [
        "# Reshape use to convert the dimention of array LIKE 1D to 2D or 3D and vise versa\n"
      ],
      "metadata": {
        "id": "8YZ4Sde1340U"
      }
    },
    {
      "cell_type": "code",
      "source": [
        "# from 1D to 2D\n",
        "arr = np.arange(1,20,2)\n",
        "print(\"the array :\", arr,\"\\n\")\n",
        "arr1 = arr.reshape(5,2)\n",
        "print(\"the array after reshape :\\n\", arr1)"
      ],
      "metadata": {
        "colab": {
          "base_uri": "https://localhost:8080/"
        },
        "id": "uSkawGNbccvV",
        "outputId": "2f443163-7734-4258-e810-c497f2c2adf5"
      },
      "execution_count": 15,
      "outputs": [
        {
          "output_type": "stream",
          "name": "stdout",
          "text": [
            "the array : [ 1  3  5  7  9 11 13 15 17 19] \n",
            "\n",
            "the array after reshape :\n",
            " [[ 1  3]\n",
            " [ 5  7]\n",
            " [ 9 11]\n",
            " [13 15]\n",
            " [17 19]]\n"
          ]
        }
      ]
    },
    {
      "cell_type": "code",
      "source": [
        "# from 1D to 3D\n",
        "arr = np.arange(1,20,2)\n",
        "print(\"the array :\", arr,\"\\n\")\n",
        "arr1 = arr.reshape(1,2,5)\n",
        "print(\"the array after reshape :\\n\", arr1)"
      ],
      "metadata": {
        "colab": {
          "base_uri": "https://localhost:8080/"
        },
        "id": "WitozqtxcfLi",
        "outputId": "a6770d75-2675-462f-b767-4e577f1dd87f"
      },
      "execution_count": 18,
      "outputs": [
        {
          "output_type": "stream",
          "name": "stdout",
          "text": [
            "the array : [ 1  3  5  7  9 11 13 15 17 19] \n",
            "\n",
            "the array after reshape :\n",
            " [[[ 1  3  5  7  9]\n",
            "  [11 13 15 17 19]]]\n"
          ]
        }
      ]
    },
    {
      "cell_type": "code",
      "source": [
        "# convert from 2D to 1D\n",
        "arr = np.array([[1,2,3],[4,5,6]])\n",
        "print(\"the array: \\n\", arr,\"\\n\")\n",
        "arr1 = arr.reshape(-1)\n",
        "print(\"the array after reshape :\\n\", arr1)"
      ],
      "metadata": {
        "colab": {
          "base_uri": "https://localhost:8080/"
        },
        "id": "oEfAPRa03vXn",
        "outputId": "c26f693c-1244-4106-e58b-b594430f9791"
      },
      "execution_count": 19,
      "outputs": [
        {
          "output_type": "stream",
          "name": "stdout",
          "text": [
            "the array: \n",
            " [[1 2 3]\n",
            " [4 5 6]] \n",
            "\n",
            "the array after reshape :\n",
            " [1 2 3 4 5 6]\n"
          ]
        }
      ]
    },
    {
      "cell_type": "markdown",
      "source": [
        "# Indexing & slicing"
      ],
      "metadata": {
        "id": "ljmELf114izb"
      }
    },
    {
      "cell_type": "code",
      "source": [
        "# access element by its index 1D\n",
        "arr = np.arange(1,10)\n",
        "print(arr)\n",
        "print(arr[3])"
      ],
      "metadata": {
        "colab": {
          "base_uri": "https://localhost:8080/"
        },
        "id": "gkPc3YvMcnU7",
        "outputId": "b27b4dd1-6d86-498c-a2ec-8f411a0f62ce"
      },
      "execution_count": 20,
      "outputs": [
        {
          "output_type": "stream",
          "name": "stdout",
          "text": [
            "[1 2 3 4 5 6 7 8 9]\n",
            "4\n"
          ]
        }
      ]
    },
    {
      "cell_type": "code",
      "source": [
        "# access element by its index 2D\n",
        "arr = np.array([[1,2,3],[4,5,6]])\n",
        "print(arr)\n",
        "print(arr[1,2])"
      ],
      "metadata": {
        "colab": {
          "base_uri": "https://localhost:8080/"
        },
        "id": "HAdHchNPLkmv",
        "outputId": "edc3a263-5cf8-463a-c186-07fcba00012e"
      },
      "execution_count": 21,
      "outputs": [
        {
          "output_type": "stream",
          "name": "stdout",
          "text": [
            "[[1 2 3]\n",
            " [4 5 6]]\n",
            "6\n"
          ]
        }
      ]
    },
    {
      "cell_type": "code",
      "source": [
        "# access element by its index 3D\n",
        "arr = np.array([[[1,2,3],[4,5,6]],[[8,9,0],[10,26,15]]])\n",
        "print(arr)\n",
        "print(arr[1,1,2])"
      ],
      "metadata": {
        "colab": {
          "base_uri": "https://localhost:8080/"
        },
        "id": "b7N5Mb9xLpEd",
        "outputId": "b1cc93a6-acd8-4d6f-8676-e280c5811a31"
      },
      "execution_count": 24,
      "outputs": [
        {
          "output_type": "stream",
          "name": "stdout",
          "text": [
            "[[[ 1  2  3]\n",
            "  [ 4  5  6]]\n",
            "\n",
            " [[ 8  9  0]\n",
            "  [10 26 15]]]\n",
            "15\n"
          ]
        }
      ]
    },
    {
      "cell_type": "code",
      "source": [
        "# slicing 1D arry[start:end:step]\n",
        "arr = np.arange(1,10)\n",
        "print(arr)\n",
        "print(arr[1:5:3])"
      ],
      "metadata": {
        "id": "tSoH0DSANCLE",
        "outputId": "7460212b-347a-475f-9ece-006f6f8aa97a",
        "colab": {
          "base_uri": "https://localhost:8080/"
        }
      },
      "execution_count": 25,
      "outputs": [
        {
          "output_type": "stream",
          "name": "stdout",
          "text": [
            "[1 2 3 4 5 6 7 8 9]\n",
            "[2 5]\n"
          ]
        }
      ]
    },
    {
      "cell_type": "code",
      "source": [
        "# slicing 2D arry[start:end:step]\n",
        "arr = np.array([[1,2,3,7,8,9],[4,5,6,10,11,12],[13,45,67,6,21,88]])\n",
        "print(arr)\n",
        "print(arr[0:3:2,0:3])"
      ],
      "metadata": {
        "colab": {
          "base_uri": "https://localhost:8080/"
        },
        "id": "-qSyzn7zMqTx",
        "outputId": "680c6534-57ae-4b51-d3a8-ffac419ecb03"
      },
      "execution_count": 30,
      "outputs": [
        {
          "output_type": "stream",
          "name": "stdout",
          "text": [
            "[[ 1  2  3  7  8  9]\n",
            " [ 4  5  6 10 11 12]\n",
            " [13 45 67  6 21 88]]\n",
            "[[ 1  2  3]\n",
            " [13 45 67]]\n"
          ]
        }
      ]
    },
    {
      "cell_type": "markdown",
      "source": [
        "# Data type\n",
        "\n",
        "\n",
        "1.   int8, int16, int32, int64 - signed integer types with different bit sizes.\n",
        "\n",
        "2.   uint8, uint16, uint32, uint64 - unsigned integer types with\n",
        "different bit sizes\n",
        "\n",
        "1.   float32, float64 - floating-point types with different precision levels\n",
        "2.   complex64, complex128 - complex number types with different precision levels\n",
        "\n",
        "\n",
        "\n",
        "\n",
        "\n",
        "\n",
        "\n"
      ],
      "metadata": {
        "id": "l0TGnSdQOtZU"
      }
    },
    {
      "cell_type": "code",
      "source": [
        "# to know data type of an array we use dtype()\n",
        "arr = np.arange(20)\n",
        "print(arr.dtype)"
      ],
      "metadata": {
        "colab": {
          "base_uri": "https://localhost:8080/"
        },
        "id": "56aGeyNQQNjI",
        "outputId": "e13655da-479f-4697-cf16-c4b3222e2c2e"
      },
      "execution_count": 31,
      "outputs": [
        {
          "output_type": "stream",
          "name": "stdout",
          "text": [
            "int64\n"
          ]
        }
      ]
    },
    {
      "cell_type": "code",
      "source": [
        "arr = np.array([\"hg\",\"ca\",\"na\"])\n",
        "print(arr.dtype)"
      ],
      "metadata": {
        "colab": {
          "base_uri": "https://localhost:8080/"
        },
        "id": "9BKggMmVQrLc",
        "outputId": "0165cf53-37b2-425f-a764-5f1105baa044"
      },
      "execution_count": 32,
      "outputs": [
        {
          "output_type": "stream",
          "name": "stdout",
          "text": [
            "<U2\n"
          ]
        }
      ]
    },
    {
      "cell_type": "code",
      "source": [
        "arr = np.array([2j,4,6+3j])\n",
        "print(arr.dtype)"
      ],
      "metadata": {
        "colab": {
          "base_uri": "https://localhost:8080/"
        },
        "id": "5xXf0s7TRgkD",
        "outputId": "ccbdf156-53b0-44a3-ec90-ea3d12a49d6c"
      },
      "execution_count": 33,
      "outputs": [
        {
          "output_type": "stream",
          "name": "stdout",
          "text": [
            "complex128\n"
          ]
        }
      ]
    },
    {
      "cell_type": "markdown",
      "source": [
        "# Array iterating"
      ],
      "metadata": {
        "id": "T0_alggURyTG"
      }
    },
    {
      "cell_type": "code",
      "source": [
        "# it is mean to going through all elements inside array\n",
        "arr = np.array([1,2,3,4,5])\n",
        "for x in arr:\n",
        "  print(x)"
      ],
      "metadata": {
        "colab": {
          "base_uri": "https://localhost:8080/"
        },
        "id": "9odtJafoRuFo",
        "outputId": "2fa8bb36-e068-4d7c-be97-94efcddc0f32"
      },
      "execution_count": 34,
      "outputs": [
        {
          "output_type": "stream",
          "name": "stdout",
          "text": [
            "1\n",
            "2\n",
            "3\n",
            "4\n",
            "5\n"
          ]
        }
      ]
    },
    {
      "cell_type": "code",
      "source": [
        "#if we want to do that for multi dimentional arry we use nditer()\n",
        "arr = np.array([[1,2,3],[4,5,6]])\n",
        "for x in np.nditer(arr):\n",
        "  print(x)"
      ],
      "metadata": {
        "colab": {
          "base_uri": "https://localhost:8080/"
        },
        "id": "9iI73VUhSeL7",
        "outputId": "6eae8de0-6fa8-4ce5-a85f-699c79216ae3"
      },
      "execution_count": 35,
      "outputs": [
        {
          "output_type": "stream",
          "name": "stdout",
          "text": [
            "1\n",
            "2\n",
            "3\n",
            "4\n",
            "5\n",
            "6\n"
          ]
        }
      ]
    },
    {
      "cell_type": "code",
      "source": [
        "# ndenumerate() use it to give index and value of the element we want to access\n",
        "arr = np.array([[1,2,3],[4,5,6]])\n",
        "for x,y in np.ndenumerate(arr):\n",
        "  print(x,y)"
      ],
      "metadata": {
        "colab": {
          "base_uri": "https://localhost:8080/"
        },
        "id": "3iK2hDKwTBab",
        "outputId": "9bdf49f5-bfa7-4161-a930-4c1bb412b3ce"
      },
      "execution_count": 36,
      "outputs": [
        {
          "output_type": "stream",
          "name": "stdout",
          "text": [
            "(0, 0) 1\n",
            "(0, 1) 2\n",
            "(0, 2) 3\n",
            "(1, 0) 4\n",
            "(1, 1) 5\n",
            "(1, 2) 6\n"
          ]
        }
      ]
    },
    {
      "cell_type": "code",
      "source": [
        "# concatenate() use to joining two array\n",
        "arr0 = np.arange(5)\n",
        "arr1 = np.ones(6)\n",
        "print(np.concatenate((arr0,arr1)))"
      ],
      "metadata": {
        "colab": {
          "base_uri": "https://localhost:8080/"
        },
        "id": "ZTcvRdy7UzET",
        "outputId": "4eb67cf8-641f-494a-fc20-9d9868a60d35"
      },
      "execution_count": 37,
      "outputs": [
        {
          "output_type": "stream",
          "name": "stdout",
          "text": [
            "[0. 1. 2. 3. 4. 1. 1. 1. 1. 1. 1.]\n"
          ]
        }
      ]
    },
    {
      "cell_type": "code",
      "source": [
        "# concatenate() with 2D array (axis 0)\n",
        "arr0 = np.array([[1,2,3],[5,6,7]])\n",
        "arr1 = np.array([[8,9,10],[15,16,17]])\n",
        "print(np.concatenate((arr0,arr1),axis=0))"
      ],
      "metadata": {
        "colab": {
          "base_uri": "https://localhost:8080/"
        },
        "id": "T18_5PWTWIs-",
        "outputId": "c9033d36-cbf3-431a-cce1-3f241c603919"
      },
      "execution_count": 38,
      "outputs": [
        {
          "output_type": "stream",
          "name": "stdout",
          "text": [
            "[[ 1  2  3]\n",
            " [ 5  6  7]\n",
            " [ 8  9 10]\n",
            " [15 16 17]]\n"
          ]
        }
      ]
    },
    {
      "cell_type": "code",
      "source": [
        "# concatenate() with 2D array (axis 1)\n",
        "arr0 = np.array([[1,2,3],[5,6,7]])\n",
        "arr1 = np.array([[8,9,10],[15,16,17]])\n",
        "print(np.concatenate((arr0,arr1),axis=1))"
      ],
      "metadata": {
        "colab": {
          "base_uri": "https://localhost:8080/"
        },
        "id": "HfYliO_eVu4b",
        "outputId": "cf47254e-c134-4cd7-f2f3-efc7ae7f3536"
      },
      "execution_count": 39,
      "outputs": [
        {
          "output_type": "stream",
          "name": "stdout",
          "text": [
            "[[ 1  2  3  8  9 10]\n",
            " [ 5  6  7 15 16 17]]\n"
          ]
        }
      ]
    },
    {
      "cell_type": "markdown",
      "source": [
        "# Spliting array"
      ],
      "metadata": {
        "id": "Kfbce2UnWibU"
      }
    },
    {
      "cell_type": "code",
      "source": [
        "# array_split(array,number of pieces) use to split an array\n",
        "arr = np.array([3,5,7,8,9,32])\n",
        "narr = np.array_split(arr,4)\n",
        "print(\"array after spliting :\",narr,\"\\n\")\n",
        "print(\"index zero of new array : \",narr[0])"
      ],
      "metadata": {
        "colab": {
          "base_uri": "https://localhost:8080/"
        },
        "id": "i3ifct_PWRDz",
        "outputId": "7bbf3765-944c-4ed2-ff3e-56d71b3b2cf6"
      },
      "execution_count": 40,
      "outputs": [
        {
          "output_type": "stream",
          "name": "stdout",
          "text": [
            "array after spliting : [array([3, 5]), array([7, 8]), array([9]), array([32])] \n",
            "\n",
            "index zero of new array :  [3 5]\n"
          ]
        }
      ]
    },
    {
      "cell_type": "code",
      "source": [
        "# split 2D array\n",
        "arr = np.array([[1,2,3],[5,6,7]])\n",
        "narr = np.array_split(arr,4,axis=1)\n",
        "print(\"array after spliting :\",narr,\"\\n\")\n",
        "print(\"index zero of new array :\\n \",narr[0])"
      ],
      "metadata": {
        "colab": {
          "base_uri": "https://localhost:8080/"
        },
        "id": "J7WENM62coYV",
        "outputId": "d48e91d7-3e84-4dfe-af49-a1d49cecafe6"
      },
      "execution_count": 42,
      "outputs": [
        {
          "output_type": "stream",
          "name": "stdout",
          "text": [
            "array after spliting : [array([[1],\n",
            "       [5]]), array([[2],\n",
            "       [6]]), array([[3],\n",
            "       [7]]), array([], shape=(2, 0), dtype=int64)] \n",
            "\n",
            "index zero of new array :\n",
            "  [[1]\n",
            " [5]]\n"
          ]
        }
      ]
    },
    {
      "cell_type": "markdown",
      "source": [
        "# Searching in array"
      ],
      "metadata": {
        "id": "rvEm8fVqdsbW"
      }
    },
    {
      "cell_type": "code",
      "source": [
        "# we use where(condition) to search element inside array it is return the index of the value\n",
        "arr = np.array([12,32,63,64,95])\n",
        "y = np.where(arr == 12)\n",
        "x = np.where(arr%2 == 0)\n",
        "print(y)\n",
        "print(x)"
      ],
      "metadata": {
        "colab": {
          "base_uri": "https://localhost:8080/"
        },
        "id": "MhR5sMXmdNP0",
        "outputId": "372004e1-88ae-479f-a331-1495ffc588ad"
      },
      "execution_count": 43,
      "outputs": [
        {
          "output_type": "stream",
          "name": "stdout",
          "text": [
            "(array([0]),)\n",
            "(array([0, 1, 3]),)\n"
          ]
        }
      ]
    },
    {
      "cell_type": "code",
      "source": [
        "# searchsorted() use to search sorted array\n",
        "arr = ([3,5,7,9,10])\n",
        "x = np.searchsorted(arr,10)\n",
        "print(x)"
      ],
      "metadata": {
        "colab": {
          "base_uri": "https://localhost:8080/"
        },
        "id": "poLD4ukQfZ0o",
        "outputId": "c7b1cdd5-06a3-405a-dbe5-7de5d80ce299"
      },
      "execution_count": 44,
      "outputs": [
        {
          "output_type": "stream",
          "name": "stdout",
          "text": [
            "4\n"
          ]
        }
      ]
    },
    {
      "cell_type": "markdown",
      "source": [
        "# sort array"
      ],
      "metadata": {
        "id": "crH8ZSzmf_kA"
      }
    },
    {
      "cell_type": "code",
      "source": [
        "# sort(array) use to sort array 1D\n",
        "arr = np.array([3,8,4,6,2,1])\n",
        "print(np.sort(arr))"
      ],
      "metadata": {
        "colab": {
          "base_uri": "https://localhost:8080/"
        },
        "id": "NuaoVw7lf_Cu",
        "outputId": "c1d781d5-f4e2-480b-b31b-e3562b8c666a"
      },
      "execution_count": 45,
      "outputs": [
        {
          "output_type": "stream",
          "name": "stdout",
          "text": [
            "[1 2 3 4 6 8]\n"
          ]
        }
      ]
    },
    {
      "cell_type": "code",
      "source": [
        "# 2D sort\n",
        "arr = np.array([[19,12,3],[51,16,27]])\n",
        "print(np.sort(arr))"
      ],
      "metadata": {
        "colab": {
          "base_uri": "https://localhost:8080/"
        },
        "id": "S9sxLX0IgeLJ",
        "outputId": "80123240-9ff7-4196-cb8c-d2246171628d"
      },
      "execution_count": 46,
      "outputs": [
        {
          "output_type": "stream",
          "name": "stdout",
          "text": [
            "[[ 3 12 19]\n",
            " [16 27 51]]\n"
          ]
        }
      ]
    },
    {
      "cell_type": "markdown",
      "source": [
        "# **Universal Functions (ufunc)**\n",
        "# Arithmetic ufunc"
      ],
      "metadata": {
        "id": "iKO11OW_i2CB"
      }
    },
    {
      "cell_type": "code",
      "source": [
        "# add()\n",
        "arr0 = np.array([[1,2,3,4],[5,6,7,8]])\n",
        "arr1 = np.array([[1,2,3,4],[5,6,7,8]])\n",
        "print(\"additon\\n\",np.add(arr0,arr1))"
      ],
      "metadata": {
        "colab": {
          "base_uri": "https://localhost:8080/"
        },
        "id": "zQFNExX8g5mW",
        "outputId": "6e96ea5e-a3f9-4d0c-cde7-af416f1f3a55"
      },
      "execution_count": 47,
      "outputs": [
        {
          "output_type": "stream",
          "name": "stdout",
          "text": [
            "additon\n",
            " [[ 2  4  6  8]\n",
            " [10 12 14 16]]\n"
          ]
        }
      ]
    },
    {
      "cell_type": "code",
      "source": [
        "# subtract()\n",
        "arr0 = np.array([[1,2,3,4],[5,6,7,8]])\n",
        "arr1 = np.array([[1,2,3,4],[5,6,7,8]])\n",
        "print(\"subtraction\\n\",np.subtract(arr0,arr1))"
      ],
      "metadata": {
        "colab": {
          "base_uri": "https://localhost:8080/"
        },
        "id": "qTr-9FoIlj-A",
        "outputId": "d1986a13-f4f3-495b-ab99-d4d9df0743ea"
      },
      "execution_count": null,
      "outputs": [
        {
          "output_type": "stream",
          "name": "stdout",
          "text": [
            "subtraction\n",
            " [[0 0 0 0]\n",
            " [0 0 0 0]]\n"
          ]
        }
      ]
    },
    {
      "cell_type": "code",
      "source": [
        "# multiply()\n",
        "arr0 = np.array([[1,2,3,4],[5,6,7,8]])\n",
        "arr1 = np.array([[1,2,3,4],[5,6,7,8]])\n",
        "print(\"multiplcation\\n\",np.multiply(arr0,arr1))"
      ],
      "metadata": {
        "colab": {
          "base_uri": "https://localhost:8080/"
        },
        "id": "JBaVN1SSl2Uq",
        "outputId": "6aede8e8-3812-49b9-fb0d-fa168e8a47fe"
      },
      "execution_count": null,
      "outputs": [
        {
          "output_type": "stream",
          "name": "stdout",
          "text": [
            "multiplcation\n",
            " [[ 1  4  9 16]\n",
            " [25 36 49 64]]\n"
          ]
        }
      ]
    },
    {
      "cell_type": "code",
      "source": [
        "# divide()\n",
        "arr0 = np.array([[1,2,3,4],[5,6,7,8]])\n",
        "arr1 = np.array([[1,2,3,4],[5,6,7,8]])\n",
        "print(\"division\\n\",np.divide(arr0,arr1))"
      ],
      "metadata": {
        "colab": {
          "base_uri": "https://localhost:8080/"
        },
        "id": "44qSv8kFmD2L",
        "outputId": "179556a8-bee0-4e17-e627-09fc2c63b210"
      },
      "execution_count": null,
      "outputs": [
        {
          "output_type": "stream",
          "name": "stdout",
          "text": [
            "division\n",
            " [[1. 1. 1. 1.]\n",
            " [1. 1. 1. 1.]]\n"
          ]
        }
      ]
    },
    {
      "cell_type": "code",
      "source": [
        "# power()\n",
        "arr0 = np.array([[1,2,3,4],[5,6,7,8]])\n",
        "arr1 = np.array([[1,2,3,4],[5,6,7,8]])\n",
        "print(\"power\\n\",np.power(arr0,arr1))"
      ],
      "metadata": {
        "colab": {
          "base_uri": "https://localhost:8080/"
        },
        "id": "scyXDsNVmULt",
        "outputId": "b9e9d74a-0108-436e-ac6e-5cbfe1b6de26"
      },
      "execution_count": null,
      "outputs": [
        {
          "output_type": "stream",
          "name": "stdout",
          "text": [
            "power\n",
            " [[       1        4       27      256]\n",
            " [    3125    46656   823543 16777216]]\n"
          ]
        }
      ]
    },
    {
      "cell_type": "code",
      "source": [
        "# mod()\n",
        "arr0 = np.array([[1,2,3,4],[5,6,7,8]])\n",
        "arr1 = np.array([[1,2,3,4],[5,6,7,8]])\n",
        "print(\"reminder\\n\",np.mod(arr0,arr1))"
      ],
      "metadata": {
        "colab": {
          "base_uri": "https://localhost:8080/"
        },
        "id": "GEKj8puumVF5",
        "outputId": "3114f8a7-d5cf-4337-9108-e7e63c328df5"
      },
      "execution_count": null,
      "outputs": [
        {
          "output_type": "stream",
          "name": "stdout",
          "text": [
            "reminder\n",
            " [[0 0 0 0]\n",
            " [0 0 0 0]]\n"
          ]
        }
      ]
    },
    {
      "cell_type": "markdown",
      "source": [
        "# Statistical Functions"
      ],
      "metadata": {
        "id": "bQ0tucpOnLD-"
      }
    },
    {
      "cell_type": "code",
      "source": [
        "# min() & max() use to show minimum and maximum value\n",
        "arr = np.array([[19,12,3],[51,16,27]])\n",
        "print(\"minimum = \",np.min(arr))\n",
        "print(\"maximum = \",np.max(arr))"
      ],
      "metadata": {
        "colab": {
          "base_uri": "https://localhost:8080/"
        },
        "id": "Eag-BxnumWO8",
        "outputId": "0d5e3b39-c75e-41c2-a6f7-2979c0ca5b12"
      },
      "execution_count": null,
      "outputs": [
        {
          "output_type": "stream",
          "name": "stdout",
          "text": [
            "minimum =  3\n",
            "maximum =  51\n"
          ]
        }
      ]
    },
    {
      "cell_type": "code",
      "source": [
        "# mean() sum of datasetes divide the numbers of them\n",
        "arr = np.array([[19,12,3],[51,16,27]])\n",
        "print(\"mean = \",np.mean(arr))"
      ],
      "metadata": {
        "colab": {
          "base_uri": "https://localhost:8080/"
        },
        "id": "F85M-Jfgn6nx",
        "outputId": "615516a5-224b-4714-ecee-a331cb6bec46"
      },
      "execution_count": null,
      "outputs": [
        {
          "output_type": "stream",
          "name": "stdout",
          "text": [
            "mean =  21.333333333333332\n"
          ]
        }
      ]
    },
    {
      "cell_type": "code",
      "source": [
        "# median() the middle number in a sorted ascending or descending list of numbers\n",
        "arr = np.array([[19,12,3],[51,16,27]])\n",
        "print(\"median = \",np.median(arr))"
      ],
      "metadata": {
        "colab": {
          "base_uri": "https://localhost:8080/"
        },
        "id": "kDUySr-2pOiQ",
        "outputId": "359e32ba-0679-499d-de1c-9d9baa7220f0"
      },
      "execution_count": null,
      "outputs": [
        {
          "output_type": "stream",
          "name": "stdout",
          "text": [
            "mean =  17.5\n"
          ]
        }
      ]
    },
    {
      "cell_type": "code",
      "source": [
        "# std() the average amount of variability in dataset\n",
        "arr = np.array([[19,12,3],[51,16,27]])\n",
        "print(\"standard deviation  = \",np.std(arr))"
      ],
      "metadata": {
        "colab": {
          "base_uri": "https://localhost:8080/"
        },
        "id": "iH6MbFcMpW38",
        "outputId": "8d0a2b30-ad60-4acc-b6ae-017c1473744c"
      },
      "execution_count": null,
      "outputs": [
        {
          "output_type": "stream",
          "name": "stdout",
          "text": [
            "standard deviation  =  15.107025591499546\n"
          ]
        }
      ]
    },
    {
      "cell_type": "markdown",
      "source": [
        "# Rounding"
      ],
      "metadata": {
        "id": "BBUrIKp3rb0E"
      }
    },
    {
      "cell_type": "code",
      "source": [
        "# trunc() use to remove the part after point\n",
        "arr = np.trunc([1.34,5.67,3.12])\n",
        "arr"
      ],
      "metadata": {
        "colab": {
          "base_uri": "https://localhost:8080/"
        },
        "id": "LMgCKoGfstXX",
        "outputId": "4b011ebd-219b-44bc-81e5-f65e2a6b795e"
      },
      "execution_count": null,
      "outputs": [
        {
          "output_type": "execute_result",
          "data": {
            "text/plain": [
              "array([1., 5., 3.])"
            ]
          },
          "metadata": {},
          "execution_count": 2
        }
      ]
    },
    {
      "cell_type": "code",
      "source": [
        "# around() when the number is  => 5 it will be rounde to the bigger number else it will keep as same\n",
        "arr = np.around([1.34,5.67,3.12])\n",
        "arr"
      ],
      "metadata": {
        "colab": {
          "base_uri": "https://localhost:8080/"
        },
        "id": "yHZaNbM8sUX8",
        "outputId": "8022e2c8-818b-4944-d209-da89c93f089d"
      },
      "execution_count": null,
      "outputs": [
        {
          "output_type": "execute_result",
          "data": {
            "text/plain": [
              "array([1., 6., 3.])"
            ]
          },
          "metadata": {},
          "execution_count": 5
        }
      ]
    },
    {
      "cell_type": "code",
      "source": [
        "# floor() use to round number to nearest lower number\n",
        "arr = np.floor([1.34,5.67,3.12])\n",
        "arr"
      ],
      "metadata": {
        "colab": {
          "base_uri": "https://localhost:8080/"
        },
        "id": "0UR4bGfItCzE",
        "outputId": "4bc0a232-b007-4119-889d-63e1240a72ad"
      },
      "execution_count": null,
      "outputs": [
        {
          "output_type": "execute_result",
          "data": {
            "text/plain": [
              "array([1., 5., 3.])"
            ]
          },
          "metadata": {},
          "execution_count": 6
        }
      ]
    },
    {
      "cell_type": "code",
      "source": [
        "# ceil() use to round number to nearest greater number\n",
        "arr = np.ceil([1.34,5.67,3.12])\n",
        "arr"
      ],
      "metadata": {
        "colab": {
          "base_uri": "https://localhost:8080/"
        },
        "id": "8giaqheytb6z",
        "outputId": "a8edb67a-49ec-41e4-b0b7-7f77c76f3818"
      },
      "execution_count": null,
      "outputs": [
        {
          "output_type": "execute_result",
          "data": {
            "text/plain": [
              "array([2., 6., 4.])"
            ]
          },
          "metadata": {},
          "execution_count": 7
        }
      ]
    }
  ]
}